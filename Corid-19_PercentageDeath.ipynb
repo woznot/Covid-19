{
 "cells": [
  {
   "cell_type": "code",
   "execution_count": 1,
   "metadata": {},
   "outputs": [],
   "source": [
    "import datetime\n",
    "from datetime import datetime\n",
    "import pandas as pd\n",
    "import matplotlib.pylab as plt\n",
    "from matplotlib import pyplot\n",
    "import seaborn as sns\n",
    "%matplotlib inline "
   ]
  },
  {
   "cell_type": "code",
   "execution_count": 2,
   "metadata": {},
   "outputs": [],
   "source": [
    "today_date=datetime.now()\n",
    "#filename = \"https://www.ecdc.europa.eu/sites/default/files/documents/COVID-19-geographic-disbtribution-worldwide-\"+today_date.strftime('%Y')+\"-\"+today_date.strftime('%m')+\"-\"+today_date.strftime('%d')+ \".xlsx\"\n",
    "filename =\"https://www.ecdc.europa.eu/sites/default/files/documents/COVID-19-geographic-disbtribution-worldwide-2020-03-25.xlsx\"\n",
    "df=pd.read_excel(filename)"
   ]
  },
  {
   "cell_type": "code",
   "execution_count": 3,
   "metadata": {},
   "outputs": [],
   "source": [
    "df_cn_1=df.loc[df[\"GeoId\"]=='CN']\n",
    "df_cn_C = df_cn_1.sort_values('DateRep')\n",
    "\n",
    "df_cn_C['T_Cases'] = df_cn_C['Cases'].cumsum()\n",
    "df_cn_C['T_Deaths'] = df_cn_C['Deaths'].cumsum()\n",
    "df_cn_C['per_death']=df_cn_C['T_Deaths']/df_cn_C['T_Cases']\n",
    "\n",
    "df_cn_C = df_cn_C.reset_index(drop=True)\n"
   ]
  },
  {
   "cell_type": "code",
   "execution_count": 4,
   "metadata": {},
   "outputs": [],
   "source": [
    "df_it_P=df.loc[df[\"GeoId\"]=='IT']\n",
    "df_it_P1 = df_it_P.sort_values('DateRep')\n",
    "\n",
    "df_it_P1['T_Cases'] = df_it_P1['Cases'].cumsum()\n",
    "df_it_P1['T_Deaths'] = df_it_P1['Deaths'].cumsum()\n",
    "df_it_P1['per_death']=df_it_P1['T_Deaths']/df_it_P1['T_Cases']\n",
    "\n",
    "df_it_P1 = df_it_P1.reset_index(drop=True)"
   ]
  },
  {
   "cell_type": "code",
   "execution_count": 5,
   "metadata": {},
   "outputs": [],
   "source": [
    "df_uk_P=df.loc[df[\"GeoId\"]=='UK']\n",
    "df_uk_P1 = df_uk_P.sort_values('DateRep')\n",
    "\n",
    "df_uk_P1['T_Cases'] = df_uk_P1['Cases'].cumsum()\n",
    "df_uk_P1['T_Deaths'] = df_uk_P1['Deaths'].cumsum()\n",
    "df_uk_P1['per_death']=df_uk_P1['T_Deaths']/df_uk_P1['T_Cases']\n",
    "\n",
    "df_uk_P1 = df_uk_P1.reset_index(drop=True)"
   ]
  },
  {
   "cell_type": "code",
   "execution_count": 6,
   "metadata": {},
   "outputs": [],
   "source": [
    "df_us_P=df.loc[df[\"GeoId\"]=='US']\n",
    "df_us_P1 = df_us_P.sort_values('DateRep')\n",
    "\n",
    "df_us_P1['T_Cases'] = df_us_P1['Cases'].cumsum()\n",
    "df_us_P1['T_Deaths'] = df_us_P1['Deaths'].cumsum()\n",
    "df_us_P1['per_death']=df_us_P1['T_Deaths']/df_us_P1['T_Cases']\n",
    "\n",
    "df_us_P1 = df_us_P1.reset_index(drop=True)"
   ]
  },
  {
   "cell_type": "code",
   "execution_count": 23,
   "metadata": {},
   "outputs": [
    {
     "name": "stderr",
     "output_type": "stream",
     "text": [
      "/Users/michal/opt/anaconda3/lib/python3.7/site-packages/ipykernel_launcher.py:3: FutureWarning: Indexing with multiple keys (implicitly converted to a tuple of keys) will be deprecated, use a list instead.\n",
      "  This is separate from the ipykernel package so we can avoid doing imports until\n"
     ]
    },
    {
     "data": {
      "text/html": [
       "<div>\n",
       "<style scoped>\n",
       "    .dataframe tbody tr th:only-of-type {\n",
       "        vertical-align: middle;\n",
       "    }\n",
       "\n",
       "    .dataframe tbody tr th {\n",
       "        vertical-align: top;\n",
       "    }\n",
       "\n",
       "    .dataframe thead th {\n",
       "        text-align: right;\n",
       "    }\n",
       "</style>\n",
       "<table border=\"1\" class=\"dataframe\">\n",
       "  <thead>\n",
       "    <tr style=\"text-align: right;\">\n",
       "      <th></th>\n",
       "      <th>Cases</th>\n",
       "      <th>Deaths</th>\n",
       "      <th>T_Cases</th>\n",
       "      <th>T_Deaths</th>\n",
       "      <th>per_death</th>\n",
       "    </tr>\n",
       "  </thead>\n",
       "  <tbody>\n",
       "    <tr>\n",
       "      <th>0</th>\n",
       "      <td>27</td>\n",
       "      <td>0</td>\n",
       "      <td>27</td>\n",
       "      <td>0</td>\n",
       "      <td>0.000000</td>\n",
       "    </tr>\n",
       "    <tr>\n",
       "      <th>1</th>\n",
       "      <td>0</td>\n",
       "      <td>0</td>\n",
       "      <td>27</td>\n",
       "      <td>0</td>\n",
       "      <td>0.000000</td>\n",
       "    </tr>\n",
       "    <tr>\n",
       "      <th>2</th>\n",
       "      <td>0</td>\n",
       "      <td>0</td>\n",
       "      <td>27</td>\n",
       "      <td>0</td>\n",
       "      <td>0.000000</td>\n",
       "    </tr>\n",
       "    <tr>\n",
       "      <th>3</th>\n",
       "      <td>17</td>\n",
       "      <td>0</td>\n",
       "      <td>44</td>\n",
       "      <td>0</td>\n",
       "      <td>0.000000</td>\n",
       "    </tr>\n",
       "    <tr>\n",
       "      <th>4</th>\n",
       "      <td>0</td>\n",
       "      <td>0</td>\n",
       "      <td>44</td>\n",
       "      <td>0</td>\n",
       "      <td>0.000000</td>\n",
       "    </tr>\n",
       "    <tr>\n",
       "      <th>...</th>\n",
       "      <td>...</td>\n",
       "      <td>...</td>\n",
       "      <td>...</td>\n",
       "      <td>...</td>\n",
       "      <td>...</td>\n",
       "    </tr>\n",
       "    <tr>\n",
       "      <th>81</th>\n",
       "      <td>28755</td>\n",
       "      <td>1367</td>\n",
       "      <td>271228</td>\n",
       "      <td>11251</td>\n",
       "      <td>0.041482</td>\n",
       "    </tr>\n",
       "    <tr>\n",
       "      <th>82</th>\n",
       "      <td>34047</td>\n",
       "      <td>1690</td>\n",
       "      <td>305275</td>\n",
       "      <td>12941</td>\n",
       "      <td>0.042391</td>\n",
       "    </tr>\n",
       "    <tr>\n",
       "      <th>83</th>\n",
       "      <td>33028</td>\n",
       "      <td>1660</td>\n",
       "      <td>338303</td>\n",
       "      <td>14601</td>\n",
       "      <td>0.043160</td>\n",
       "    </tr>\n",
       "    <tr>\n",
       "      <th>84</th>\n",
       "      <td>39737</td>\n",
       "      <td>1764</td>\n",
       "      <td>378040</td>\n",
       "      <td>16365</td>\n",
       "      <td>0.043289</td>\n",
       "    </tr>\n",
       "    <tr>\n",
       "      <th>85</th>\n",
       "      <td>38876</td>\n",
       "      <td>2200</td>\n",
       "      <td>416916</td>\n",
       "      <td>18565</td>\n",
       "      <td>0.044529</td>\n",
       "    </tr>\n",
       "  </tbody>\n",
       "</table>\n",
       "<p>86 rows × 5 columns</p>\n",
       "</div>"
      ],
      "text/plain": [
       "    Cases  Deaths  T_Cases  T_Deaths  per_death\n",
       "0      27       0       27         0   0.000000\n",
       "1       0       0       27         0   0.000000\n",
       "2       0       0       27         0   0.000000\n",
       "3      17       0       44         0   0.000000\n",
       "4       0       0       44         0   0.000000\n",
       "..    ...     ...      ...       ...        ...\n",
       "81  28755    1367   271228     11251   0.041482\n",
       "82  34047    1690   305275     12941   0.042391\n",
       "83  33028    1660   338303     14601   0.043160\n",
       "84  39737    1764   378040     16365   0.043289\n",
       "85  38876    2200   416916     18565   0.044529\n",
       "\n",
       "[86 rows x 5 columns]"
      ]
     },
     "execution_count": 23,
     "metadata": {},
     "output_type": "execute_result"
    }
   ],
   "source": [
    "df_all_P=df\n",
    "#df_all_P.drop(['Countries and territories','Day','Month','Year','GeoId','Pop_Data.2018'], axis=1, inplace=True)\n",
    "df_all_P1=df_all_P1.groupby(['DateRep'])['Cases', 'Deaths'].sum()\n",
    "\n",
    "df_all_P2 = df_all_P1.sort_values('DateRep')\n",
    "\n",
    "df_all_P2['T_Cases'] = df_all_P2['Cases'].cumsum()\n",
    "df_all_P2['T_Deaths'] = df_all_P2['Deaths'].cumsum()\n",
    "df_all_P2['per_death']=df_all_P2['T_Deaths']/df_all_P2['T_Cases']\n",
    "\n",
    "df_all_P2 = df_all_P2.reset_index(drop=True)\n",
    "\n",
    "df_all_P2"
   ]
  },
  {
   "cell_type": "code",
   "execution_count": 24,
   "metadata": {},
   "outputs": [
    {
     "data": {
      "text/plain": [
       "<matplotlib.legend.Legend at 0x1a259630d0>"
      ]
     },
     "execution_count": 24,
     "metadata": {},
     "output_type": "execute_result"
    },
    {
     "data": {
      "image/png": "[encoded data removed]",
      "text/plain": [
       "<Figure size 432x288 with 1 Axes>"
      ]
     },
     "metadata": {
      "needs_background": "light"
     },
     "output_type": "display_data"
    }
   ],
   "source": [
    "x1 = df_cn_C.index\n",
    "y1 = df_cn_C['per_death']\n",
    "x2 = df_it_P1.index\n",
    "y2 = df_it_P1['per_death']\n",
    "x3 = df_uk_P1.index\n",
    "y3 = df_uk_P1['per_death']\n",
    "x4 = df_us_P1.index\n",
    "y4 = df_us_P1['per_death']\n",
    "x5 = df_all_P2.index\n",
    "y5 = df_all_P2['per_death']\n",
    "\n",
    "plt.plot(x1,y1, color='blue', label='CN')\n",
    "plt.plot(x2,y2, color='red', label='IT')\n",
    "plt.plot(x3,y3, color='orange', label='UK')\n",
    "plt.plot(x4,y4, color='purple', label='US')\n",
    "plt.plot(x5,y5, color='green', label='ALL')\n",
    "plt.legend()"
   ]
  },
  {
   "cell_type": "code",
   "execution_count": null,
   "metadata": {},
   "outputs": [],
   "source": []
  }
 ],
 "metadata": {
  "kernelspec": {
   "display_name": "Python 3",
   "language": "python",
   "name": "python3"
  },
  "language_info": {
   "codemirror_mode": {
    "name": "ipython",
    "version": 3
   },
   "file_extension": ".py",
   "mimetype": "text/x-python",
   "name": "python",
   "nbconvert_exporter": "python",
   "pygments_lexer": "ipython3",
   "version": "3.7.6"
  }
 },
 "nbformat": 4,
 "nbformat_minor": 4
}
