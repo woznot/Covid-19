{
 "cells": [
  {
   "cell_type": "markdown",
   "metadata": {},
   "source": [
    "## Death Predictions"
   ]
  },
  {
   "cell_type": "markdown",
   "metadata": {},
   "source": [
    "The question is whether we are able to predict how many deaths will occur bases known factors. \n",
    "\n",
    "Assumptions:\n",
    "* Countries' data are unique due to: \n",
    " * Different case recording methodolodies.  eg: Germany test more while UK and Italy test only the most severe cases\n",
    " * Different social dynamics.  eg: Italy has a very family (larger family) centered life\n",
    " * Different age distribution.  The older are more likely to die due to the Covid-19\n",
    " * Different infection rates along different ages.  eg: Germany average age of the infected is apparently around 43, while Italy is around 68 (higher mortality rate)\n",
    " * Different relgious practices.  Italy is predomantly roman catholic.  Church goes dip their fingers in holi water when they go & leave church and make the sign of the cross that includes touching their forehead (infection vector).  Combine with the church going demographic\n",
    "* Covid-19 cycle:\n",
    " * Day 7/8 admit to hospital (most likely tested at this point)\n",
    " * Day 17/18 Death occurs in worst cases"
   ]
  },
  {
   "cell_type": "code",
   "execution_count": 1,
   "metadata": {},
   "outputs": [],
   "source": [
    "import pandas as pd\n",
    "import matplotlib.pylab as plt\n",
    "from matplotlib import pyplot\n",
    "import seaborn as sns\n",
    "%matplotlib inline "
   ]
  },
  {
   "cell_type": "code",
   "execution_count": 2,
   "metadata": {},
   "outputs": [],
   "source": [
    "from datetime import datetime\n",
    "today_date=datetime.now()\n",
    "#filename = \"https://www.ecdc.europa.eu/sites/default/files/documents/COVID-19-geographic-disbtribution-worldwide-\"+today_date.strftime('%Y')+\"-\"+today_date.strftime('%m')+\"-\"+today_date.strftime('%d')+ \".xlsx\"\n",
    "filename =\"https://www.ecdc.europa.eu/sites/default/files/documents/COVID-19-geographic-disbtribution-worldwide-2020-03-30.xlsx\"\n",
    "df=pd.read_excel(filename)"
   ]
  },
  {
   "cell_type": "markdown",
   "metadata": {},
   "source": [
    "### Looked at total deaths as a % of total cases in different countries"
   ]
  },
  {
   "cell_type": "code",
   "execution_count": 3,
   "metadata": {},
   "outputs": [],
   "source": [
    "cn_1=df.loc[df[\"geoId\"]=='CN']\n",
    "cn_C = cn_1.sort_values('dateRep')\n",
    "\n",
    "cn_C['T_Cases'] = cn_C['cases'].cumsum()\n",
    "cn_C['T_Deaths'] = cn_C['deaths'].cumsum()\n",
    "cn_C['per_death']=cn_C['T_Deaths']/cn_C['T_Cases']\n",
    "\n",
    "cn_C = cn_C.reset_index(drop=True)"
   ]
  },
  {
   "cell_type": "code",
   "execution_count": 4,
   "metadata": {},
   "outputs": [],
   "source": [
    "it_P=df.loc[df[\"geoId\"]=='IT']\n",
    "it_P1 = it_P.sort_values('dateRep')\n",
    "\n",
    "it_P1['T_cases'] = it_P1['cases'].cumsum()\n",
    "it_P1['T_deaths'] = it_P1['deaths'].cumsum()\n",
    "it_P1['per_death']=it_P1['T_deaths']/it_P1['T_cases']\n",
    "\n",
    "it_P1 = it_P1.reset_index(drop=True)"
   ]
  },
  {
   "cell_type": "code",
   "execution_count": 5,
   "metadata": {},
   "outputs": [],
   "source": [
    "uk_P=df.loc[df[\"geoId\"]=='UK']\n",
    "uk_P1 = uk_P.sort_values('dateRep')\n",
    "\n",
    "uk_P1['T_Cases'] = uk_P1['cases'].cumsum()\n",
    "uk_P1['T_Deaths'] = uk_P1['deaths'].cumsum()\n",
    "uk_P1['per_death']=uk_P1['T_Deaths']/uk_P1['T_Cases']\n",
    "\n",
    "uk_P1 = uk_P1.reset_index(drop=True)"
   ]
  },
  {
   "cell_type": "code",
   "execution_count": 6,
   "metadata": {},
   "outputs": [],
   "source": [
    "de_P=df.loc[df[\"geoId\"]=='DE']\n",
    "de_P1 = de_P.sort_values('dateRep')\n",
    "\n",
    "de_P1['T_Cases'] = de_P1['cases'].cumsum()\n",
    "de_P1['T_Deaths'] = de_P1['deaths'].cumsum()\n",
    "de_P1['per_death']=de_P1['T_Deaths']/de_P1['T_Cases']\n",
    "\n",
    "de_P1 = de_P1.reset_index(drop=True)"
   ]
  },
  {
   "cell_type": "code",
   "execution_count": 7,
   "metadata": {},
   "outputs": [],
   "source": [
    "us_P=df.loc[df[\"geoId\"]=='US']\n",
    "us_P1 = us_P.sort_values('dateRep')\n",
    "\n",
    "us_P1['T_Cases'] = us_P1['cases'].cumsum()\n",
    "us_P1['T_Deaths'] = us_P1['deaths'].cumsum()\n",
    "us_P1['per_death']=us_P1['T_Deaths']/us_P1['T_Cases']\n",
    "\n",
    "us_P1 = us_P1.reset_index(drop=True)"
   ]
  },
  {
   "cell_type": "code",
   "execution_count": 8,
   "metadata": {},
   "outputs": [
    {
     "data": {
      "text/plain": [
       "<matplotlib.legend.Legend at 0x101f7a2f50>"
      ]
     },
     "execution_count": 8,
     "metadata": {},
     "output_type": "execute_result"
    },
    {
     "data": {
      "image/png": "[encoded data removed]",
      "text/plain": [
       "<Figure size 432x288 with 1 Axes>"
      ]
     },
     "metadata": {
      "needs_background": "light"
     },
     "output_type": "display_data"
    }
   ],
   "source": [
    "x1 = cn_C.index\n",
    "y1 = cn_C['per_death']\n",
    "x2 = it_P1.index\n",
    "y2 = it_P1['per_death']\n",
    "x3 = uk_P1.index\n",
    "y3 = uk_P1['per_death']\n",
    "x4 = de_P1.index\n",
    "y4 = de_P1['per_death']\n",
    "x5 = us_P1.index\n",
    "y5 = us_P1['per_death']\n",
    "\n",
    "plt.title('% of total deaths to total cases')\n",
    "plt.xlabel('Days')\n",
    "plt.ylabel('%')\n",
    "\n",
    "plt.plot(x1,y1, color='blue', label='CN')\n",
    "plt.plot(x2,y2, color='red', label='IT')\n",
    "plt.plot(x3,y3, color='orange', label='UK')\n",
    "plt.plot(x4,y4, color='purple', label='DE')\n",
    "plt.plot(x5,y5, color='yellow', label='US')\n",
    "plt.legend()"
   ]
  },
  {
   "cell_type": "markdown",
   "metadata": {},
   "source": [
    "Shows that the Covid-19 mortality factors care different from country to country. "
   ]
  },
  {
   "cell_type": "markdown",
   "metadata": {},
   "source": [
    "### Look at correlation of deaths to past recorded cases"
   ]
  },
  {
   "cell_type": "markdown",
   "metadata": {},
   "source": [
    "Assume case record occurs at day 7 of the virus cycle"
   ]
  },
  {
   "cell_type": "code",
   "execution_count": 9,
   "metadata": {},
   "outputs": [
    {
     "name": "stderr",
     "output_type": "stream",
     "text": [
      "/Users/michal/opt/anaconda3/lib/python3.7/site-packages/pandas/core/frame.py:3997: SettingWithCopyWarning: \n",
      "A value is trying to be set on a copy of a slice from a DataFrame\n",
      "\n",
      "See the caveats in the documentation: https://pandas.pydata.org/pandas-docs/stable/user_guide/indexing.html#returning-a-view-versus-a-copy\n",
      "  errors=errors,\n"
     ]
    }
   ],
   "source": [
    "uk_C=df.loc[df[\"geoId\"]=='UK']\n",
    "uk_C1 = uk_C.sort_values('dateRep')\n",
    "\n",
    "uk_C1['Cases_8d']= uk_C1['cases'].shift(8)\n",
    "uk_C1['Cases_9d']= uk_C1['cases'].shift(9)\n",
    "uk_C1['Cases_10d']= uk_C1['cases'].shift(10)\n",
    "uk_C1['Cases_11d']= uk_C1['cases'].shift(11)\n",
    "uk_C1['Cases_12d']= uk_C1['cases'].shift(12)\n",
    "uk_C1['Cases_13d']= uk_C1['cases'].shift(13)\n",
    "uk_C1['Cases_14d']= uk_C1['cases'].shift(14)\n",
    "uk_C1['Cases_15d']= uk_C1['cases'].shift(15)\n",
    "uk_C2 = uk_C1.dropna()\n",
    "\n",
    "#remove the cases without recognised cases.  there seem to be a gap at the beginning.  \n",
    "indexNamesC = uk_C2[uk_C2['cases'] == 0 ].index\n",
    "uk_C2.drop(indexNamesC, inplace=True)\n",
    "\n",
    "uk_C2 = uk_C2.reset_index(drop=True)"
   ]
  },
  {
   "cell_type": "code",
   "execution_count": 10,
   "metadata": {},
   "outputs": [
    {
     "name": "stdout",
     "output_type": "stream",
     "text": [
      "8d:  0.8325845475771212\n",
      "9d:  0.9065647742310491\n",
      "10d:  0.8975012581045478\n",
      "11d:  0.6654622809013729\n",
      "12d:  0.6526480005578368\n",
      "13d:  0.7370057105225619\n",
      "14d:  0.8822167751035427\n",
      "15d:  0.6317897262272447\n"
     ]
    }
   ],
   "source": [
    "from sklearn.linear_model import LinearRegression\n",
    "\n",
    "lm = LinearRegression()\n",
    "x3=uk_C2[['Cases_8d']]\n",
    "x4=uk_C2[['Cases_9d']]\n",
    "x5=uk_C2[['Cases_10d']]\n",
    "x6=uk_C2[['Cases_11d']]\n",
    "x7=uk_C2[['Cases_12d']]\n",
    "x8=uk_C2[['Cases_13d']]\n",
    "x9=uk_C2[['Cases_14d']]\n",
    "x10=uk_C2[['Cases_15d']]\n",
    "y=uk_C2['deaths']\n",
    "\n",
    "lm.fit(x3, y)\n",
    "print (\"8d: \",lm.score(x3, y))\n",
    "lm.fit(x4, y)\n",
    "print (\"9d: \",lm.score(x4, y))\n",
    "lm.fit(x5, y)\n",
    "print (\"10d: \",lm.score(x5, y))\n",
    "lm.fit(x6, y)\n",
    "print (\"11d: \",lm.score(x6, y))\n",
    "lm.fit(x7, y)\n",
    "print (\"12d: \",lm.score(x7, y))\n",
    "lm.fit(x8, y)\n",
    "print (\"13d: \",lm.score(x8, y))\n",
    "lm.fit(x9, y)\n",
    "print (\"14d: \",lm.score(x9, y))\n",
    "lm.fit(x10, y)\n",
    "print (\"15d: \",lm.score(x10, y))"
   ]
  },
  {
   "cell_type": "markdown",
   "metadata": {},
   "source": [
    "### Look at a correlation with a range of days.  "
   ]
  },
  {
   "cell_type": "code",
   "execution_count": 11,
   "metadata": {},
   "outputs": [
    {
     "name": "stdout",
     "output_type": "stream",
     "text": [
      "0.984775121105581\n"
     ]
    },
    {
     "data": {
      "text/plain": [
       "<matplotlib.legend.Legend at 0x1a21489650>"
      ]
     },
     "execution_count": 11,
     "metadata": {},
     "output_type": "execute_result"
    },
    {
     "data": {
      "image/png": "[encoded data removed]",
      "text/plain": [
       "<Figure size 432x288 with 1 Axes>"
      ]
     },
     "metadata": {
      "needs_background": "light"
     },
     "output_type": "display_data"
    }
   ],
   "source": [
    "lm_reg = LinearRegression()\n",
    "x_5c=uk_C2[['Cases_11d','Cases_12d','Cases_13d','Cases_14d','Cases_15d']]\n",
    "lm_reg.fit(x_5c, y)\n",
    "print (lm_reg.score(x_5c, y))\n",
    "\n",
    "Death_hat_uk = lm_reg.predict(x_5c)\n",
    "\n",
    "x_plot = uk_C2.index\n",
    "y_plot = uk_C2['deaths']\n",
    "#x = df_it_C.index\n",
    "y_hat1 = Death_hat_uk\n",
    "\n",
    "plt.title('Actual vs Predicted Deaths')\n",
    "plt.xlabel('Days')\n",
    "plt.ylabel('Deaths')\n",
    "\n",
    "plt.plot(x_plot,y_plot, color='blue', label='Actual')\n",
    "plt.plot(x_plot,y_hat1, color='red', label='Predicted')\n",
    "plt.legend()\n"
   ]
  },
  {
   "cell_type": "markdown",
   "metadata": {},
   "source": [
    "As can be seen there is quite a bit a variability in the fatalisies on a daily basis. "
   ]
  },
  {
   "cell_type": "markdown",
   "metadata": {},
   "source": [
    "## Look at at a rolling average"
   ]
  },
  {
   "cell_type": "markdown",
   "metadata": {},
   "source": [
    "See is a rolling average can smooth the volatile cases numbers"
   ]
  },
  {
   "cell_type": "code",
   "execution_count": 12,
   "metadata": {},
   "outputs": [
    {
     "name": "stdout",
     "output_type": "stream",
     "text": [
      "3days 9-11:  0.9170673081899832\n",
      "3days 10-12:  0.8748928521148261\n",
      "3days 11-13:  0.7988032029517094\n",
      "3days 12-14:  0.9329425290531876\n",
      "3days 13-15:  0.9585685862821482\n"
     ]
    }
   ],
   "source": [
    "uk_C2['Cases_3d_Ave1']= uk_C2[['Cases_9d','Cases_10d','Cases_11d']].mean(axis=1)\n",
    "uk_C2['Cases_3d_Ave2']= uk_C2[['Cases_10d','Cases_10d','Cases_11d']].mean(axis=1)\n",
    "uk_C2['Cases_3d_Ave3']= uk_C2[['Cases_11d','Cases_10d','Cases_11d']].mean(axis=1)\n",
    "uk_C2['Cases_3d_Ave4']= uk_C2[['Cases_12d','Cases_13d','Cases_14d']].mean(axis=1)\n",
    "uk_C2['Cases_3d_Ave5']= uk_C2[['Cases_13d','Cases_14d','Cases_15d']].mean(axis=1)\n",
    "\n",
    "x_ave=uk_C2[['Cases_3d_Ave1']]\n",
    "y=uk_C2['deaths']\n",
    "lm.fit(x_ave, y)\n",
    "print (\"3days 9-11: \", lm.score(x_ave, y))\n",
    "\n",
    "x_ave=uk_C2[['Cases_3d_Ave2']]\n",
    "y=uk_C2['deaths']\n",
    "lm.fit(x_ave, y)\n",
    "print (\"3days 10-12: \", lm.score(x_ave, y))\n",
    "\n",
    "x_ave=uk_C2[['Cases_3d_Ave3']]\n",
    "y=uk_C2['deaths']\n",
    "lm.fit(x_ave, y)\n",
    "print (\"3days 11-13: \", lm.score(x_ave, y))\n",
    "\n",
    "x_ave=uk_C2[['Cases_3d_Ave4']]\n",
    "y=uk_C2['deaths']\n",
    "lm.fit(x_ave, y)\n",
    "print (\"3days 12-14: \", lm.score(x_ave, y))\n",
    "\n",
    "x_ave=uk_C2[['Cases_3d_Ave5']]\n",
    "y=uk_C2['deaths']\n",
    "lm.fit(x_ave, y)\n",
    "print (\"3days 13-15: \", lm.score(x_ave, y))"
   ]
  },
  {
   "cell_type": "code",
   "execution_count": 13,
   "metadata": {},
   "outputs": [
    {
     "name": "stdout",
     "output_type": "stream",
     "text": [
      "4days 9-12:  0.9091014778392289\n",
      "4days 10-13:  0.8988681898837239\n",
      "4days 11-14:  0.8919380444197783\n",
      "4days 12-15:  0.9242964829685453\n"
     ]
    }
   ],
   "source": [
    "uk_C2['Cases_4d_Ave1']= uk_C2[['Cases_9d','Cases_10d','Cases_11d','Cases_12d']].mean(axis=1)\n",
    "uk_C2['Cases_4d_Ave2']= uk_C2[['Cases_10d','Cases_11d','Cases_12d','Cases_13d']].mean(axis=1)\n",
    "uk_C2['Cases_4d_Ave3']= uk_C2[['Cases_11d','Cases_12d','Cases_13d','Cases_14d']].mean(axis=1)\n",
    "uk_C2['Cases_4d_Ave4']= uk_C2[['Cases_12d','Cases_13d','Cases_14d','Cases_15d']].mean(axis=1)\n",
    "\n",
    "x_ave=uk_C2[['Cases_4d_Ave1']]\n",
    "y=uk_C2['deaths']\n",
    "lm.fit(x_ave, y)\n",
    "Death_hat_uk_ave1 = lm.predict(x_ave)\n",
    "print (\"4days 9-12: \", lm.score(x_ave, y))\n",
    "\n",
    "x_ave=uk_C2[['Cases_4d_Ave2']]\n",
    "y=uk_C2['deaths']\n",
    "lm.fit(x_ave, y)\n",
    "Death_hat_uk_ave1 = lm.predict(x_ave)\n",
    "print (\"4days 10-13: \", lm.score(x_ave, y))\n",
    "\n",
    "x_ave=uk_C2[['Cases_4d_Ave3']]\n",
    "y=uk_C2['deaths']\n",
    "lm.fit(x_ave, y)\n",
    "Death_hat_uk_ave1 = lm.predict(x_ave)\n",
    "print (\"4days 11-14: \", lm.score(x_ave, y))\n",
    "\n",
    "x_ave=uk_C2[['Cases_4d_Ave4']]\n",
    "y=uk_C2['deaths']\n",
    "lm.fit(x_ave, y)\n",
    "Death_hat_uk_ave1 = lm.predict(x_ave)\n",
    "print (\"4days 12-15: \", lm.score(x_ave, y))"
   ]
  },
  {
   "cell_type": "code",
   "execution_count": 14,
   "metadata": {},
   "outputs": [
    {
     "name": "stdout",
     "output_type": "stream",
     "text": [
      "5days 9-13:  0.9247774154527099\n",
      "5days 10-14:  0.9251533414507884\n",
      "5days 11-15:  0.8798361930110553\n"
     ]
    }
   ],
   "source": [
    "uk_C2['Cases_5d_Ave1']= uk_C2[['Cases_9d','Cases_10d','Cases_11d','Cases_12d','Cases_13d']].mean(axis=1)\n",
    "uk_C2['Cases_5d_Ave2']= uk_C2[['Cases_10d','Cases_11d','Cases_12d','Cases_13d','Cases_14d']].mean(axis=1)\n",
    "uk_C2['Cases_5d_Ave3']= uk_C2[['Cases_11d','Cases_12d','Cases_13d','Cases_14d','Cases_15d']].mean(axis=1)\n",
    "\n",
    "x_ave=uk_C2[['Cases_5d_Ave1']]\n",
    "y=uk_C2['deaths']\n",
    "lm.fit(x_ave, y)\n",
    "Death_hat_uk_ave1 = lm.predict(x_ave)\n",
    "print (\"5days 9-13: \", lm.score(x_ave, y))\n",
    "\n",
    "x_ave=uk_C2[['Cases_5d_Ave2']]\n",
    "y=uk_C2['deaths']\n",
    "lm.fit(x_ave, y)\n",
    "Death_hat_uk_ave1 = lm.predict(x_ave)\n",
    "print (\"5days 10-14: \", lm.score(x_ave, y))\n",
    "\n",
    "x_ave=uk_C2[['Cases_5d_Ave3']]\n",
    "y=uk_C2['deaths']\n",
    "lm.fit(x_ave, y)\n",
    "Death_hat_uk_ave1 = lm.predict(x_ave)\n",
    "print (\"5days 11-15: \", lm.score(x_ave, y))"
   ]
  },
  {
   "cell_type": "code",
   "execution_count": 15,
   "metadata": {},
   "outputs": [
    {
     "name": "stdout",
     "output_type": "stream",
     "text": [
      "3day average:  0.9805760166249375\n",
      "4day average:  0.9306350385188922\n",
      "5day average:  0.9404383219527066\n"
     ]
    }
   ],
   "source": [
    "x_ave=uk_C2[['Cases_3d_Ave1','Cases_3d_Ave2','Cases_3d_Ave3','Cases_3d_Ave4','Cases_3d_Ave5']]\n",
    "y=uk_C2['deaths']\n",
    "lm_3d = LinearRegression()\n",
    "lm_3d.fit(x_ave, y)\n",
    "Death_hat_uk_3dave = lm_3d.predict(x_ave)\n",
    "print (\"3day average: \", lm_3d.score(x_ave, y))\n",
    "\n",
    "x_ave=uk_C2[['Cases_4d_Ave1','Cases_4d_Ave2','Cases_4d_Ave3','Cases_4d_Ave4']]\n",
    "y=uk_C2['deaths']\n",
    "lm_4d = LinearRegression()\n",
    "lm_4d.fit(x_ave, y)\n",
    "Death_hat_uk_4dave = lm_4d.predict(x_ave)\n",
    "print (\"4day average: \", lm_4d.score(x_ave, y))\n",
    "\n",
    "x_ave=uk_C2[['Cases_5d_Ave1','Cases_5d_Ave2','Cases_5d_Ave3']]\n",
    "y=uk_C2['deaths']\n",
    "lm_5d = LinearRegression()\n",
    "lm_5d.fit(x_ave, y)\n",
    "Death_hat_uk_5dave = lm_5d.predict(x_ave)\n",
    "print (\"5day average: \", lm_5d.score(x_ave, y))\n"
   ]
  },
  {
   "cell_type": "code",
   "execution_count": 16,
   "metadata": {},
   "outputs": [
    {
     "data": {
      "text/plain": [
       "<matplotlib.legend.Legend at 0x1a21caae90>"
      ]
     },
     "execution_count": 16,
     "metadata": {},
     "output_type": "execute_result"
    },
    {
     "data": {
      "image/png": "[encoded data removed]",
      "text/plain": [
       "<Figure size 432x288 with 1 Axes>"
      ]
     },
     "metadata": {
      "needs_background": "light"
     },
     "output_type": "display_data"
    }
   ],
   "source": [
    "x_plot = uk_C2.index\n",
    "y_plot = uk_C2['deaths']\n",
    "\n",
    "y_hat1 = Death_hat_uk_3dave\n",
    "y_hat2 = Death_hat_uk_4dave\n",
    "y_hat3 = Death_hat_uk_4dave\n",
    "\n",
    "\n",
    "plt.title('Actual vs Predicted Deaths on a rolling average')\n",
    "plt.xlabel('Days')\n",
    "plt.ylabel('Deaths')\n",
    "\n",
    "plt.plot(x_plot,y_plot, color='blue', label='Actual')\n",
    "plt.plot(x_plot,y_hat1, color='red', label='3day')\n",
    "plt.plot(x_plot,y_hat2, color='purple', label='4day')\n",
    "plt.plot(x_plot,y_hat3, color='orange', label='5day')\n",
    "\n",
    "plt.legend()"
   ]
  },
  {
   "cell_type": "markdown",
   "metadata": {},
   "source": [
    "## Look at predictions for the next 5 days"
   ]
  },
  {
   "cell_type": "code",
   "execution_count": 17,
   "metadata": {},
   "outputs": [],
   "source": [
    "uk_F=df.loc[df[\"geoId\"]=='UK']\n",
    "uk_F1 = uk_F.sort_values('dateRep')\n",
    "uk_F1 = uk_F1.reset_index(drop=True)"
   ]
  },
  {
   "cell_type": "code",
   "execution_count": 18,
   "metadata": {},
   "outputs": [],
   "source": [
    "uk_F1['Cases_9d']= uk_F1['cases'].shift(4)\n",
    "uk_F1['Cases_10d']= uk_F1['cases'].shift(5)\n",
    "uk_F1['Cases_11d']= uk_F1['cases'].shift(6)\n",
    "uk_F1['Cases_12d']= uk_F1['cases'].shift(7)\n",
    "uk_F1['Cases_13d']= uk_F1['cases'].shift(8)\n",
    "uk_F1['Cases_14d']= uk_F1['cases'].shift(9)\n",
    "uk_F1['Cases_15d']= uk_F1['cases'].shift(10)\n",
    "\n",
    "uk_F1 = uk_F1.dropna()\n",
    "uk_F2= uk_F1.drop(['dateRep', 'day', 'year', 'month', 'cases','countriesAndTerritories','geoId','countryterritoryCode','popData2018'], axis=1)\n"
   ]
  },
  {
   "cell_type": "code",
   "execution_count": 19,
   "metadata": {},
   "outputs": [
    {
     "name": "stdout",
     "output_type": "stream",
     "text": [
      "3day average:  -2.360443788410226\n",
      "4day average:  -1.855566465138634\n",
      "5day average:  -1.120788658367017\n"
     ]
    }
   ],
   "source": [
    "x_reg=uk_F2[['Cases_11d','Cases_12d','Cases_13d','Cases_14d','Cases_15d']]\n",
    "uk_F2['D_Reg'] = lm_reg.predict(x_reg)\n",
    "\n",
    "uk_F2['Cases_3d_Ave1']= uk_F2[['Cases_9d','Cases_10d','Cases_11d']].mean(axis=1)\n",
    "uk_F2['Cases_3d_Ave2']= uk_F2[['Cases_10d','Cases_10d','Cases_11d']].mean(axis=1)\n",
    "uk_F2['Cases_3d_Ave3']= uk_F2[['Cases_11d','Cases_10d','Cases_11d']].mean(axis=1)\n",
    "uk_F2['Cases_3d_Ave4']= uk_F2[['Cases_12d','Cases_13d','Cases_14d']].mean(axis=1)\n",
    "uk_F2['Cases_3d_Ave5']= uk_F2[['Cases_13d','Cases_14d','Cases_15d']].mean(axis=1)\n",
    "\n",
    "x_ave=uk_F2[['Cases_3d_Ave1','Cases_3d_Ave2','Cases_3d_Ave3','Cases_3d_Ave4','Cases_3d_Ave5']]\n",
    "y=uk_F2['deaths']\n",
    "uk_F2['D_3dAve'] = lm_3d.predict(x_ave)\n",
    "print (\"3day average: \", lm_3d.score(x_ave, y))\n",
    "\n",
    "uk_F2['Cases_4d_Ave1']= uk_F2[['Cases_9d','Cases_10d','Cases_11d','Cases_12d']].mean(axis=1)\n",
    "uk_F2['Cases_4d_Ave2']= uk_F2[['Cases_10d','Cases_11d','Cases_12d','Cases_13d']].mean(axis=1)\n",
    "uk_F2['Cases_4d_Ave3']= uk_F2[['Cases_11d','Cases_12d','Cases_13d','Cases_14d']].mean(axis=1)\n",
    "uk_F2['Cases_4d_Ave4']= uk_F2[['Cases_12d','Cases_13d','Cases_14d','Cases_15d']].mean(axis=1)\n",
    "\n",
    "x_ave=uk_F2[['Cases_4d_Ave1','Cases_4d_Ave2','Cases_4d_Ave3','Cases_4d_Ave4']]\n",
    "y=uk_F2['deaths']\n",
    "uk_F2['D_4dAve'] = lm_4d.predict(x_ave)\n",
    "print (\"4day average: \", lm_4d.score(x_ave, y))\n",
    "\n",
    "uk_F2['Cases_5d_Ave1']= uk_F2[['Cases_9d','Cases_10d','Cases_11d','Cases_12d','Cases_13d']].mean(axis=1)\n",
    "uk_F2['Cases_5d_Ave2']= uk_F2[['Cases_10d','Cases_11d','Cases_12d','Cases_13d','Cases_14d']].mean(axis=1)\n",
    "uk_F2['Cases_5d_Ave3']= uk_F2[['Cases_11d','Cases_12d','Cases_13d','Cases_14d','Cases_15d']].mean(axis=1)\n",
    "\n",
    "x_ave=uk_F2[['Cases_5d_Ave1','Cases_5d_Ave2','Cases_5d_Ave3']]\n",
    "y=uk_F2['deaths']\n",
    "uk_F2['D_5dAve'] = lm_5d.predict(x_ave)\n",
    "print (\"5day average: \", lm_5d.score(x_ave, y))\n"
   ]
  },
  {
   "cell_type": "code",
   "execution_count": 20,
   "metadata": {},
   "outputs": [],
   "source": [
    "uk_F3 = pd.DataFrame()\n",
    "uk_F3['D_Reg']=uk_F2['D_Reg'] \n",
    "uk_F3['D_3dAve']=uk_F2['D_3dAve']\n",
    "uk_F3['D_4dAve']=uk_F2['D_4dAve']\n",
    "uk_F3['D_5dAve']=uk_F2['D_5dAve']\n",
    "uk_F3['D_Ave']= uk_F2[['D_Reg','D_3dAve','D_4dAve','D_5dAve']].mean(axis=1)\n",
    "\n",
    "uk_F3['deaths']=uk_F2['deaths'].shift(-5)"
   ]
  },
  {
   "cell_type": "code",
   "execution_count": 21,
   "metadata": {},
   "outputs": [
    {
     "data": {
      "text/html": [
       "<div>\n",
       "<style scoped>\n",
       "    .dataframe tbody tr th:only-of-type {\n",
       "        vertical-align: middle;\n",
       "    }\n",
       "\n",
       "    .dataframe tbody tr th {\n",
       "        vertical-align: top;\n",
       "    }\n",
       "\n",
       "    .dataframe thead th {\n",
       "        text-align: right;\n",
       "    }\n",
       "</style>\n",
       "<table border=\"1\" class=\"dataframe\">\n",
       "  <thead>\n",
       "    <tr style=\"text-align: right;\">\n",
       "      <th></th>\n",
       "      <th>D_Reg</th>\n",
       "      <th>D_3dAve</th>\n",
       "      <th>D_4dAve</th>\n",
       "      <th>D_5dAve</th>\n",
       "      <th>D_Ave</th>\n",
       "      <th>deaths</th>\n",
       "    </tr>\n",
       "  </thead>\n",
       "  <tbody>\n",
       "    <tr>\n",
       "      <th>81</th>\n",
       "      <td>44.399819</td>\n",
       "      <td>59.844401</td>\n",
       "      <td>65.792367</td>\n",
       "      <td>104.069724</td>\n",
       "      <td>68.526578</td>\n",
       "      <td>41.0</td>\n",
       "    </tr>\n",
       "    <tr>\n",
       "      <th>82</th>\n",
       "      <td>121.966205</td>\n",
       "      <td>105.038061</td>\n",
       "      <td>137.259676</td>\n",
       "      <td>108.675928</td>\n",
       "      <td>118.234968</td>\n",
       "      <td>115.0</td>\n",
       "    </tr>\n",
       "    <tr>\n",
       "      <th>83</th>\n",
       "      <td>186.065384</td>\n",
       "      <td>208.049088</td>\n",
       "      <td>185.669648</td>\n",
       "      <td>171.048494</td>\n",
       "      <td>187.708154</td>\n",
       "      <td>181.0</td>\n",
       "    </tr>\n",
       "    <tr>\n",
       "      <th>84</th>\n",
       "      <td>260.355963</td>\n",
       "      <td>237.482359</td>\n",
       "      <td>183.331610</td>\n",
       "      <td>222.539867</td>\n",
       "      <td>225.927450</td>\n",
       "      <td>260.0</td>\n",
       "    </tr>\n",
       "    <tr>\n",
       "      <th>85</th>\n",
       "      <td>212.237045</td>\n",
       "      <td>211.564284</td>\n",
       "      <td>248.867336</td>\n",
       "      <td>216.746982</td>\n",
       "      <td>222.353912</td>\n",
       "      <td>209.0</td>\n",
       "    </tr>\n",
       "    <tr>\n",
       "      <th>86</th>\n",
       "      <td>206.340375</td>\n",
       "      <td>256.215876</td>\n",
       "      <td>298.595787</td>\n",
       "      <td>306.213877</td>\n",
       "      <td>266.841478</td>\n",
       "      <td>NaN</td>\n",
       "    </tr>\n",
       "    <tr>\n",
       "      <th>87</th>\n",
       "      <td>356.970950</td>\n",
       "      <td>391.476491</td>\n",
       "      <td>340.000934</td>\n",
       "      <td>378.888207</td>\n",
       "      <td>366.834145</td>\n",
       "      <td>NaN</td>\n",
       "    </tr>\n",
       "    <tr>\n",
       "      <th>88</th>\n",
       "      <td>507.338461</td>\n",
       "      <td>414.793491</td>\n",
       "      <td>402.779937</td>\n",
       "      <td>332.232734</td>\n",
       "      <td>414.286156</td>\n",
       "      <td>NaN</td>\n",
       "    </tr>\n",
       "    <tr>\n",
       "      <th>89</th>\n",
       "      <td>635.479700</td>\n",
       "      <td>562.432152</td>\n",
       "      <td>564.709099</td>\n",
       "      <td>390.030954</td>\n",
       "      <td>538.162976</td>\n",
       "      <td>NaN</td>\n",
       "    </tr>\n",
       "    <tr>\n",
       "      <th>90</th>\n",
       "      <td>658.403331</td>\n",
       "      <td>643.991179</td>\n",
       "      <td>565.571494</td>\n",
       "      <td>501.170259</td>\n",
       "      <td>592.284066</td>\n",
       "      <td>NaN</td>\n",
       "    </tr>\n",
       "  </tbody>\n",
       "</table>\n",
       "</div>"
      ],
      "text/plain": [
       "         D_Reg     D_3dAve     D_4dAve     D_5dAve       D_Ave  deaths\n",
       "81   44.399819   59.844401   65.792367  104.069724   68.526578    41.0\n",
       "82  121.966205  105.038061  137.259676  108.675928  118.234968   115.0\n",
       "83  186.065384  208.049088  185.669648  171.048494  187.708154   181.0\n",
       "84  260.355963  237.482359  183.331610  222.539867  225.927450   260.0\n",
       "85  212.237045  211.564284  248.867336  216.746982  222.353912   209.0\n",
       "86  206.340375  256.215876  298.595787  306.213877  266.841478     NaN\n",
       "87  356.970950  391.476491  340.000934  378.888207  366.834145     NaN\n",
       "88  507.338461  414.793491  402.779937  332.232734  414.286156     NaN\n",
       "89  635.479700  562.432152  564.709099  390.030954  538.162976     NaN\n",
       "90  658.403331  643.991179  565.571494  501.170259  592.284066     NaN"
      ]
     },
     "execution_count": 21,
     "metadata": {},
     "output_type": "execute_result"
    }
   ],
   "source": [
    "uk_F3.tail(10)"
   ]
  },
  {
   "cell_type": "code",
   "execution_count": 22,
   "metadata": {},
   "outputs": [
    {
     "data": {
      "text/plain": [
       "<matplotlib.legend.Legend at 0x1a21d8e1d0>"
      ]
     },
     "execution_count": 22,
     "metadata": {},
     "output_type": "execute_result"
    },
    {
     "data": {
      "image/png": "[encoded data removed]",
      "text/plain": [
       "<Figure size 432x288 with 1 Axes>"
      ]
     },
     "metadata": {
      "needs_background": "light"
     },
     "output_type": "display_data"
    }
   ],
   "source": [
    "x_plot = uk_F3.tail(10).index\n",
    "y_plot = uk_F3['deaths'].tail(10)\n",
    "\n",
    "y_hat1 = uk_F3['D_Reg'].tail(10)\n",
    "y_hat2 = uk_F3['D_3dAve'].tail(10)\n",
    "y_hat3 = uk_F3['D_4dAve'].tail(10)\n",
    "y_hat5 = uk_F3['D_5dAve'].tail(10)\n",
    "y_hat3 = uk_F3['D_Ave'].tail(10)\n",
    "\n",
    "plt.title('Predition')\n",
    "plt.xlabel('Days')\n",
    "plt.ylabel('Deaths')\n",
    "\n",
    "plt.plot(x_plot,y_plot, color='blue', label='Actual')\n",
    "plt.plot(x_plot,y_hat1, color='red', label='Reg')\n",
    "plt.plot(x_plot,y_hat2, color='purple', label='3day roll')\n",
    "plt.plot(x_plot,y_hat3, color='orange', label='4day roll')\n",
    "plt.plot(x_plot,y_hat3, color='yellow', label='5day roll')\n",
    "plt.plot(x_plot,y_hat3, color='black', label='AVERAGE')\n",
    "\n",
    "plt.legend()"
   ]
  },
  {
   "cell_type": "code",
   "execution_count": 24,
   "metadata": {},
   "outputs": [
    {
     "name": "stdout",
     "output_type": "stream",
     "text": [
      "death_prediction_2020-03-29.csv\n"
     ]
    }
   ],
   "source": [
    "import datetime\n",
    "datefortoday=datetime.date.today()\n",
    "dateforyesterday=datefortoday-datetime.timedelta(days = 1)\n",
    "savename= \"death_prediction_\"+str(dateforyesterday)+\".csv\"\n",
    "print(savename)\n",
    "uk_F3.tail(10).to_csv(savename)"
   ]
  },
  {
   "cell_type": "markdown",
   "metadata": {},
   "source": [
    "## Quality on the Cases\n",
    "The number of cases reported on daily basis have a high degree of variability.  \n",
    "More details are needed on cases, to help with the predictions:\n",
    "* Quality of the testing variables such as \"Total Number of cases performed\"\n",
    "* Age of the confirmed cases.  eg: average age of those tested... "
   ]
  },
  {
   "cell_type": "code",
   "execution_count": null,
   "metadata": {},
   "outputs": [],
   "source": []
  }
 ],
 "metadata": {
  "kernelspec": {
   "display_name": "Python 3",
   "language": "python",
   "name": "python3"
  },
  "language_info": {
   "codemirror_mode": {
    "name": "ipython",
    "version": 3
   },
   "file_extension": ".py",
   "mimetype": "text/x-python",
   "name": "python",
   "nbconvert_exporter": "python",
   "pygments_lexer": "ipython3",
   "version": "3.7.6"
  }
 },
 "nbformat": 4,
 "nbformat_minor": 4
}
