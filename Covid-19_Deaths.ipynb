{
 "cells": [
  {
   "cell_type": "markdown",
   "metadata": {},
   "source": [
    "## Death Predictions"
   ]
  },
  {
   "cell_type": "markdown",
   "metadata": {},
   "source": [
    "The question is whether we are able to predict how many deaths will occur bases known factors. \n",
    "\n",
    "Assumptions:\n",
    "* Countries' data are unique due to: \n",
    " * Different case recording methodolodies.  eg: Germany test more while UK and Italy test only the most severe cases\n",
    " * Different social dynamics.  eg: Italy has a very family (larger family) centered life\n",
    " * Different age distribution.  The older are more likely to die due to the Covid-19\n",
    " * Different infection rates along different ages.  eg: Germany average age of the infected is apparently around 43, while Italy is around 68 (higher mortality rate)\n",
    " * Different relgious practices.  Italy is predomantly roman catholic.  Church goes dip their fingers in holi water when they go & leave church and make the sign of the cross that includes touching their forehead (infection vector).  Combine with the church going demographic\n",
    "* Covid-19 cycle:\n",
    " * Day 7/8 admit to hospital (most likely tested at this point)\n",
    " * Day 17/18 Death occurs in worst cases"
   ]
  },
  {
   "cell_type": "code",
   "execution_count": null,
   "metadata": {},
   "outputs": [],
   "source": [
    "import pandas as pd\n",
    "import matplotlib.pylab as plt\n",
    "from matplotlib import pyplot\n",
    "import seaborn as sns\n",
    "%matplotlib inline "
   ]
  },
  {
   "cell_type": "code",
   "execution_count": null,
   "metadata": {},
   "outputs": [],
   "source": [
    "from datetime import datetime\n",
    "today_date=datetime.now()\n",
    "#filename = \"https://www.ecdc.europa.eu/sites/default/files/documents/COVID-19-geographic-disbtribution-worldwide-\"+today_date.strftime('%Y')+\"-\"+today_date.strftime('%m')+\"-\"+today_date.strftime('%d')+ \".xlsx\"\n",
    "filename =\"https://www.ecdc.europa.eu/sites/default/files/documents/COVID-19-geographic-disbtribution-worldwide-2020-04-06.xlsx\"\n",
    "df=pd.read_excel(filename)"
   ]
  },
  {
   "cell_type": "markdown",
   "metadata": {},
   "source": [
    "### Looked at total deaths as a % of total cases in different countries"
   ]
  },
  {
   "cell_type": "code",
   "execution_count": null,
   "metadata": {},
   "outputs": [],
   "source": [
    "cn_1=df.loc[df[\"geoId\"]=='CN']\n",
    "cn_C = cn_1.sort_values('dateRep')\n",
    "\n",
    "cn_C['T_Cases'] = cn_C['cases'].cumsum()\n",
    "cn_C['T_Deaths'] = cn_C['deaths'].cumsum()\n",
    "cn_C['per_death']=cn_C['T_Deaths']/cn_C['T_Cases']\n",
    "\n",
    "cn_C = cn_C.reset_index(drop=True)"
   ]
  },
  {
   "cell_type": "code",
   "execution_count": null,
   "metadata": {},
   "outputs": [],
   "source": [
    "it_P=df.loc[df[\"geoId\"]=='IT']\n",
    "it_P1 = it_P.sort_values('dateRep')\n",
    "\n",
    "it_P1['T_cases'] = it_P1['cases'].cumsum()\n",
    "it_P1['T_deaths'] = it_P1['deaths'].cumsum()\n",
    "it_P1['per_death']=it_P1['T_deaths']/it_P1['T_cases']\n",
    "\n",
    "it_P1 = it_P1.reset_index(drop=True)"
   ]
  },
  {
   "cell_type": "code",
   "execution_count": null,
   "metadata": {},
   "outputs": [],
   "source": [
    "uk_P=df.loc[df[\"geoId\"]=='UK']\n",
    "uk_P1 = uk_P.sort_values('dateRep')\n",
    "\n",
    "uk_P1['T_Cases'] = uk_P1['cases'].cumsum()\n",
    "uk_P1['T_Deaths'] = uk_P1['deaths'].cumsum()\n",
    "uk_P1['per_death']=uk_P1['T_Deaths']/uk_P1['T_Cases']\n",
    "\n",
    "uk_P1 = uk_P1.reset_index(drop=True)"
   ]
  },
  {
   "cell_type": "code",
   "execution_count": null,
   "metadata": {},
   "outputs": [],
   "source": [
    "de_P=df.loc[df[\"geoId\"]=='DE']\n",
    "de_P1 = de_P.sort_values('dateRep')\n",
    "\n",
    "de_P1['T_Cases'] = de_P1['cases'].cumsum()\n",
    "de_P1['T_Deaths'] = de_P1['deaths'].cumsum()\n",
    "de_P1['per_death']=de_P1['T_Deaths']/de_P1['T_Cases']\n",
    "\n",
    "de_P1 = de_P1.reset_index(drop=True)"
   ]
  },
  {
   "cell_type": "code",
   "execution_count": null,
   "metadata": {},
   "outputs": [],
   "source": [
    "us_P=df.loc[df[\"geoId\"]=='US']\n",
    "us_P1 = us_P.sort_values('dateRep')\n",
    "\n",
    "us_P1['T_Cases'] = us_P1['cases'].cumsum()\n",
    "us_P1['T_Deaths'] = us_P1['deaths'].cumsum()\n",
    "us_P1['per_death']=us_P1['T_Deaths']/us_P1['T_Cases']\n",
    "\n",
    "us_P1 = us_P1.reset_index(drop=True)"
   ]
  },
  {
   "cell_type": "code",
   "execution_count": null,
   "metadata": {},
   "outputs": [],
   "source": [
    "x1 = cn_C.index\n",
    "y1 = cn_C['per_death']\n",
    "x2 = it_P1.index\n",
    "y2 = it_P1['per_death']\n",
    "x3 = uk_P1.index\n",
    "y3 = uk_P1['per_death']\n",
    "x4 = de_P1.index\n",
    "y4 = de_P1['per_death']\n",
    "x5 = us_P1.index\n",
    "y5 = us_P1['per_death']\n",
    "\n",
    "plt.title('% of total deaths to total cases')\n",
    "plt.xlabel('Days')\n",
    "plt.ylabel('%')\n",
    "\n",
    "plt.plot(x1,y1, color='blue', label='CN')\n",
    "plt.plot(x2,y2, color='red', label='IT')\n",
    "plt.plot(x3,y3, color='orange', label='UK')\n",
    "plt.plot(x4,y4, color='purple', label='DE')\n",
    "plt.plot(x5,y5, color='yellow', label='US')\n",
    "plt.legend()"
   ]
  },
  {
   "cell_type": "markdown",
   "metadata": {},
   "source": [
    "Shows that the Covid-19 mortality factors care different from country to country. "
   ]
  },
  {
   "cell_type": "markdown",
   "metadata": {},
   "source": [
    "### Look at correlation of deaths to past recorded cases"
   ]
  },
  {
   "cell_type": "markdown",
   "metadata": {},
   "source": [
    "Assume case record occurs at day 7 of the virus cycle"
   ]
  },
  {
   "cell_type": "code",
   "execution_count": null,
   "metadata": {},
   "outputs": [],
   "source": [
    "uk_C=df.loc[df[\"geoId\"]=='UK']\n",
    "uk_C1 = uk_C.sort_values('dateRep')\n",
    "\n",
    "uk_C1['Cases_8d']= uk_C1['cases'].shift(8)\n",
    "uk_C1['Cases_9d']= uk_C1['cases'].shift(9)\n",
    "uk_C1['Cases_10d']= uk_C1['cases'].shift(10)\n",
    "uk_C1['Cases_11d']= uk_C1['cases'].shift(11)\n",
    "uk_C1['Cases_12d']= uk_C1['cases'].shift(12)\n",
    "uk_C1['Cases_13d']= uk_C1['cases'].shift(13)\n",
    "uk_C1['Cases_14d']= uk_C1['cases'].shift(14)\n",
    "uk_C1['Cases_15d']= uk_C1['cases'].shift(15)\n",
    "uk_C2 = uk_C1.dropna()\n",
    "\n",
    "#remove the cases without recognised cases.  there seem to be a gap at the beginning.  \n",
    "indexNamesC = uk_C2[uk_C2['cases'] == 0 ].index\n",
    "uk_C2.drop(indexNamesC, inplace=True)\n",
    "\n",
    "uk_C2 = uk_C2.reset_index(drop=True)"
   ]
  },
  {
   "cell_type": "code",
   "execution_count": null,
   "metadata": {},
   "outputs": [],
   "source": [
    "from sklearn.linear_model import LinearRegression\n",
    "\n",
    "lm = LinearRegression()\n",
    "x3=uk_C2[['Cases_8d']]\n",
    "x4=uk_C2[['Cases_9d']]\n",
    "x5=uk_C2[['Cases_10d']]\n",
    "x6=uk_C2[['Cases_11d']]\n",
    "x7=uk_C2[['Cases_12d']]\n",
    "x8=uk_C2[['Cases_13d']]\n",
    "x9=uk_C2[['Cases_14d']]\n",
    "x10=uk_C2[['Cases_15d']]\n",
    "y=uk_C2['deaths']\n",
    "\n",
    "lm.fit(x3, y)\n",
    "print (\"8d: \",lm.score(x3, y))\n",
    "lm.fit(x4, y)\n",
    "print (\"9d: \",lm.score(x4, y))\n",
    "lm.fit(x5, y)\n",
    "print (\"10d: \",lm.score(x5, y))\n",
    "lm.fit(x6, y)\n",
    "print (\"11d: \",lm.score(x6, y))\n",
    "lm.fit(x7, y)\n",
    "print (\"12d: \",lm.score(x7, y))\n",
    "lm.fit(x8, y)\n",
    "print (\"13d: \",lm.score(x8, y))\n",
    "lm.fit(x9, y)\n",
    "print (\"14d: \",lm.score(x9, y))\n",
    "lm.fit(x10, y)\n",
    "print (\"15d: \",lm.score(x10, y))"
   ]
  },
  {
   "cell_type": "markdown",
   "metadata": {},
   "source": [
    "### Look at a correlation with a range of days.  "
   ]
  },
  {
   "cell_type": "code",
   "execution_count": null,
   "metadata": {},
   "outputs": [],
   "source": [
    "lm_reg = LinearRegression()\n",
    "x_5c=uk_C2[['Cases_11d','Cases_12d','Cases_13d','Cases_14d','Cases_15d']]\n",
    "lm_reg.fit(x_5c, y)\n",
    "print (lm_reg.score(x_5c, y))\n",
    "\n",
    "Death_hat_uk = lm_reg.predict(x_5c)\n",
    "\n",
    "x_plot = uk_C2.index\n",
    "y_plot = uk_C2['deaths']\n",
    "#x = df_it_C.index\n",
    "y_hat1 = Death_hat_uk\n",
    "\n",
    "plt.title('Actual vs Predicted Deaths')\n",
    "plt.xlabel('Days')\n",
    "plt.ylabel('Deaths')\n",
    "\n",
    "plt.plot(x_plot,y_plot, color='blue', label='Actual')\n",
    "plt.plot(x_plot,y_hat1, color='red', label='Predicted')\n",
    "plt.legend()\n"
   ]
  },
  {
   "cell_type": "markdown",
   "metadata": {},
   "source": [
    "As can be seen there is quite a bit a variability in the fatalisies on a daily basis. "
   ]
  },
  {
   "cell_type": "markdown",
   "metadata": {},
   "source": [
    "## Look at at a rolling average"
   ]
  },
  {
   "cell_type": "markdown",
   "metadata": {},
   "source": [
    "See is a rolling average can smooth the volatile cases numbers"
   ]
  },
  {
   "cell_type": "code",
   "execution_count": null,
   "metadata": {},
   "outputs": [],
   "source": [
    "uk_C2['Cases_2d_Ave1']= uk_C2[['Cases_9d','Cases_10d']].mean(axis=1)\n",
    "uk_C2['Cases_2d_Ave2']= uk_C2[['Cases_10d','Cases_11d']].mean(axis=1)\n",
    "uk_C2['Cases_2d_Ave3']= uk_C2[['Cases_11d','Cases_12d']].mean(axis=1)\n",
    "uk_C2['Cases_2d_Ave4']= uk_C2[['Cases_12d','Cases_13d']].mean(axis=1)\n",
    "uk_C2['Cases_2d_Ave5']= uk_C2[['Cases_13d','Cases_14d']].mean(axis=1)\n",
    "uk_C2['Cases_2d_Ave6']= uk_C2[['Cases_14d','Cases_15d']].mean(axis=1)\n",
    "\n",
    "x_ave=uk_C2[['Cases_2d_Ave1']]\n",
    "y=uk_C2['deaths']\n",
    "lm.fit(x_ave, y)\n",
    "print (\"2days 9-10: \", lm.score(x_ave, y))\n",
    "\n",
    "x_ave=uk_C2[['Cases_2d_Ave2']]\n",
    "y=uk_C2['deaths']\n",
    "lm.fit(x_ave, y)\n",
    "print (\"2days 10-11: \", lm.score(x_ave, y))\n",
    "\n",
    "x_ave=uk_C2[['Cases_2d_Ave3']]\n",
    "y=uk_C2['deaths']\n",
    "lm.fit(x_ave, y)\n",
    "print (\"2days 11-12: \", lm.score(x_ave, y))\n",
    "\n",
    "x_ave=uk_C2[['Cases_2d_Ave4']]\n",
    "y=uk_C2['deaths']\n",
    "lm.fit(x_ave, y)\n",
    "print (\"2days 12-14: \", lm.score(x_ave, y))\n",
    "\n",
    "x_ave=uk_C2[['Cases_2d_Ave5']]\n",
    "y=uk_C2['deaths']\n",
    "lm.fit(x_ave, y)\n",
    "print (\"2days 13-14: \", lm.score(x_ave, y))\n",
    "\n",
    "x_ave=uk_C2[['Cases_2d_Ave6']]\n",
    "y=uk_C2['deaths']\n",
    "lm.fit(x_ave, y)\n",
    "print (\"2days 14-15: \", lm.score(x_ave, y))"
   ]
  },
  {
   "cell_type": "code",
   "execution_count": null,
   "metadata": {},
   "outputs": [],
   "source": [
    "uk_C2['Cases_3d_Ave1']= uk_C2[['Cases_9d','Cases_10d','Cases_11d']].mean(axis=1)\n",
    "uk_C2['Cases_3d_Ave2']= uk_C2[['Cases_10d','Cases_11d','Cases_12d']].mean(axis=1)\n",
    "uk_C2['Cases_3d_Ave3']= uk_C2[['Cases_11d','Cases_12d','Cases_13d']].mean(axis=1)\n",
    "uk_C2['Cases_3d_Ave4']= uk_C2[['Cases_12d','Cases_13d','Cases_14d']].mean(axis=1)\n",
    "uk_C2['Cases_3d_Ave5']= uk_C2[['Cases_13d','Cases_14d','Cases_15d']].mean(axis=1)\n",
    "\n",
    "x_ave=uk_C2[['Cases_3d_Ave1']]\n",
    "y=uk_C2['deaths']\n",
    "lm.fit(x_ave, y)\n",
    "print (\"3days 9-11: \", lm.score(x_ave, y))\n",
    "\n",
    "x_ave=uk_C2[['Cases_3d_Ave2']]\n",
    "y=uk_C2['deaths']\n",
    "lm.fit(x_ave, y)\n",
    "print (\"3days 10-12: \", lm.score(x_ave, y))\n",
    "\n",
    "x_ave=uk_C2[['Cases_3d_Ave3']]\n",
    "y=uk_C2['deaths']\n",
    "lm.fit(x_ave, y)\n",
    "print (\"3days 11-13: \", lm.score(x_ave, y))\n",
    "\n",
    "x_ave=uk_C2[['Cases_3d_Ave4']]\n",
    "y=uk_C2['deaths']\n",
    "lm.fit(x_ave, y)\n",
    "print (\"3days 12-14: \", lm.score(x_ave, y))\n",
    "\n",
    "x_ave=uk_C2[['Cases_3d_Ave5']]\n",
    "y=uk_C2['deaths']\n",
    "lm.fit(x_ave, y)\n",
    "print (\"3days 13-15: \", lm.score(x_ave, y))"
   ]
  },
  {
   "cell_type": "code",
   "execution_count": null,
   "metadata": {},
   "outputs": [],
   "source": [
    "uk_C2['Cases_4d_Ave1']= uk_C2[['Cases_9d','Cases_10d','Cases_11d','Cases_12d']].mean(axis=1)\n",
    "uk_C2['Cases_4d_Ave2']= uk_C2[['Cases_10d','Cases_11d','Cases_12d','Cases_13d']].mean(axis=1)\n",
    "uk_C2['Cases_4d_Ave3']= uk_C2[['Cases_11d','Cases_12d','Cases_13d','Cases_14d']].mean(axis=1)\n",
    "uk_C2['Cases_4d_Ave4']= uk_C2[['Cases_12d','Cases_13d','Cases_14d','Cases_15d']].mean(axis=1)\n",
    "\n",
    "x_ave=uk_C2[['Cases_4d_Ave1']]\n",
    "y=uk_C2['deaths']\n",
    "lm.fit(x_ave, y)\n",
    "Death_hat_uk_ave1 = lm.predict(x_ave)\n",
    "print (\"4days 9-12: \", lm.score(x_ave, y))\n",
    "\n",
    "x_ave=uk_C2[['Cases_4d_Ave2']]\n",
    "y=uk_C2['deaths']\n",
    "lm.fit(x_ave, y)\n",
    "Death_hat_uk_ave1 = lm.predict(x_ave)\n",
    "print (\"4days 10-13: \", lm.score(x_ave, y))\n",
    "\n",
    "x_ave=uk_C2[['Cases_4d_Ave3']]\n",
    "y=uk_C2['deaths']\n",
    "lm.fit(x_ave, y)\n",
    "Death_hat_uk_ave1 = lm.predict(x_ave)\n",
    "print (\"4days 11-14: \", lm.score(x_ave, y))\n",
    "\n",
    "x_ave=uk_C2[['Cases_4d_Ave4']]\n",
    "y=uk_C2['deaths']\n",
    "lm.fit(x_ave, y)\n",
    "Death_hat_uk_ave1 = lm.predict(x_ave)\n",
    "print (\"4days 12-15: \", lm.score(x_ave, y))"
   ]
  },
  {
   "cell_type": "code",
   "execution_count": null,
   "metadata": {},
   "outputs": [],
   "source": [
    "uk_C2['Cases_5d_Ave1']= uk_C2[['Cases_9d','Cases_10d','Cases_11d','Cases_12d','Cases_13d']].mean(axis=1)\n",
    "uk_C2['Cases_5d_Ave2']= uk_C2[['Cases_10d','Cases_11d','Cases_12d','Cases_13d','Cases_14d']].mean(axis=1)\n",
    "uk_C2['Cases_5d_Ave3']= uk_C2[['Cases_11d','Cases_12d','Cases_13d','Cases_14d','Cases_15d']].mean(axis=1)\n",
    "\n",
    "x_ave=uk_C2[['Cases_5d_Ave1']]\n",
    "y=uk_C2['deaths']\n",
    "lm.fit(x_ave, y)\n",
    "Death_hat_uk_ave1 = lm.predict(x_ave)\n",
    "print (\"5days 9-13: \", lm.score(x_ave, y))\n",
    "\n",
    "x_ave=uk_C2[['Cases_5d_Ave2']]\n",
    "y=uk_C2['deaths']\n",
    "lm.fit(x_ave, y)\n",
    "Death_hat_uk_ave1 = lm.predict(x_ave)\n",
    "print (\"5days 10-14: \", lm.score(x_ave, y))\n",
    "\n",
    "x_ave=uk_C2[['Cases_5d_Ave3']]\n",
    "y=uk_C2['deaths']\n",
    "lm.fit(x_ave, y)\n",
    "Death_hat_uk_ave1 = lm.predict(x_ave)\n",
    "print (\"5days 11-15: \", lm.score(x_ave, y))"
   ]
  },
  {
   "cell_type": "code",
   "execution_count": null,
   "metadata": {},
   "outputs": [],
   "source": [
    "x_ave=uk_C2[['Cases_2d_Ave1','Cases_2d_Ave2','Cases_2d_Ave3','Cases_2d_Ave4','Cases_2d_Ave5','Cases_2d_Ave6']]\n",
    "y=uk_C2['deaths']\n",
    "lm_2d = LinearRegression()\n",
    "lm_2d.fit(x_ave, y)\n",
    "Death_hat_uk_2dave = lm_2d.predict(x_ave)\n",
    "print (\"2day average: \", lm_2d.score(x_ave, y))\n",
    "\n",
    "x_ave=uk_C2[['Cases_3d_Ave1','Cases_3d_Ave2','Cases_3d_Ave3','Cases_3d_Ave4','Cases_3d_Ave5']]\n",
    "y=uk_C2['deaths']\n",
    "lm_3d = LinearRegression()\n",
    "lm_3d.fit(x_ave, y)\n",
    "Death_hat_uk_3dave = lm_3d.predict(x_ave)\n",
    "print (\"3day average: \", lm_3d.score(x_ave, y))\n",
    "\n",
    "x_ave=uk_C2[['Cases_4d_Ave1','Cases_4d_Ave2','Cases_4d_Ave3','Cases_4d_Ave4']]\n",
    "y=uk_C2['deaths']\n",
    "lm_4d = LinearRegression()\n",
    "lm_4d.fit(x_ave, y)\n",
    "Death_hat_uk_4dave = lm_4d.predict(x_ave)\n",
    "print (\"4day average: \", lm_4d.score(x_ave, y))\n",
    "\n",
    "x_ave=uk_C2[['Cases_5d_Ave1','Cases_5d_Ave2','Cases_5d_Ave3']]\n",
    "y=uk_C2['deaths']\n",
    "lm_5d = LinearRegression()\n",
    "lm_5d.fit(x_ave, y)\n",
    "Death_hat_uk_5dave = lm_5d.predict(x_ave)\n",
    "print (\"5day average: \", lm_5d.score(x_ave, y))\n"
   ]
  },
  {
   "cell_type": "code",
   "execution_count": null,
   "metadata": {},
   "outputs": [],
   "source": [
    "x_plot = uk_C2.index\n",
    "y_plot = uk_C2['deaths']\n",
    "\n",
    "y_hat0 = Death_hat_uk_2dave\n",
    "y_hat1 = Death_hat_uk_3dave\n",
    "y_hat2 = Death_hat_uk_4dave\n",
    "y_hat3 = Death_hat_uk_5dave\n",
    "\n",
    "\n",
    "plt.title('Actual vs Predicted Deaths on a rolling average')\n",
    "plt.xlabel('Days')\n",
    "plt.ylabel('Deaths')\n",
    "\n",
    "plt.plot(x_plot,y_plot, color='blue', label='Actual')\n",
    "plt.plot(x_plot,y_hat0, color='pink', label='2day')\n",
    "plt.plot(x_plot,y_hat1, color='red', label='3day')\n",
    "plt.plot(x_plot,y_hat2, color='purple', label='4day')\n",
    "plt.plot(x_plot,y_hat3, color='orange', label='5day')\n",
    "\n",
    "plt.legend()"
   ]
  },
  {
   "cell_type": "markdown",
   "metadata": {},
   "source": [
    "## Look at predictions for the next 5 days"
   ]
  },
  {
   "cell_type": "code",
   "execution_count": null,
   "metadata": {},
   "outputs": [],
   "source": [
    "uk_F=df.loc[df[\"geoId\"]=='UK']\n",
    "uk_F1 = uk_F.sort_values('dateRep')\n",
    "uk_F1 = uk_F1.reset_index(drop=True)"
   ]
  },
  {
   "cell_type": "code",
   "execution_count": null,
   "metadata": {},
   "outputs": [],
   "source": [
    "uk_F1['Cases_9d']= uk_F1['cases'].shift(4)\n",
    "uk_F1['Cases_10d']= uk_F1['cases'].shift(5)\n",
    "uk_F1['Cases_11d']= uk_F1['cases'].shift(6)\n",
    "uk_F1['Cases_12d']= uk_F1['cases'].shift(7)\n",
    "uk_F1['Cases_13d']= uk_F1['cases'].shift(8)\n",
    "uk_F1['Cases_14d']= uk_F1['cases'].shift(9)\n",
    "uk_F1['Cases_15d']= uk_F1['cases'].shift(10)\n",
    "\n",
    "uk_F1 = uk_F1.dropna()\n",
    "uk_F2= uk_F1.drop(['dateRep', 'day', 'year', 'month', 'cases','countriesAndTerritories','geoId','countryterritoryCode','popData2018'], axis=1)\n"
   ]
  },
  {
   "cell_type": "code",
   "execution_count": null,
   "metadata": {},
   "outputs": [],
   "source": [
    "x_reg=uk_F2[['Cases_11d','Cases_12d','Cases_13d','Cases_14d','Cases_15d']]\n",
    "uk_F2['D_Reg'] = lm_reg.predict(x_reg)\n",
    "\n",
    "uk_F2['Cases_2d_Ave1']= uk_F2[['Cases_9d','Cases_10d']].mean(axis=1)\n",
    "uk_F2['Cases_2d_Ave2']= uk_F2[['Cases_10d','Cases_11d']].mean(axis=1)\n",
    "uk_F2['Cases_2d_Ave3']= uk_F2[['Cases_11d','Cases_12d']].mean(axis=1)\n",
    "uk_F2['Cases_2d_Ave4']= uk_F2[['Cases_12d','Cases_13d']].mean(axis=1)\n",
    "uk_F2['Cases_2d_Ave5']= uk_F2[['Cases_13d','Cases_14d']].mean(axis=1)\n",
    "uk_F2['Cases_2d_Ave6']= uk_F2[['Cases_14d','Cases_15d']].mean(axis=1)\n",
    "\n",
    "x_ave=uk_F2[['Cases_2d_Ave1','Cases_2d_Ave2','Cases_2d_Ave3','Cases_2d_Ave4','Cases_2d_Ave5','Cases_2d_Ave6']]\n",
    "y=uk_F2['deaths']\n",
    "uk_F2['D_2dAve'] = lm_2d.predict(x_ave)\n",
    "print (\"3day average: \", lm_2d.score(x_ave, y))\n",
    "\n",
    "uk_F2['Cases_3d_Ave1']= uk_F2[['Cases_9d','Cases_10d','Cases_11d']].mean(axis=1)\n",
    "uk_F2['Cases_3d_Ave2']= uk_F2[['Cases_10d','Cases_11d','Cases_12d']].mean(axis=1)\n",
    "uk_F2['Cases_3d_Ave3']= uk_F2[['Cases_11d','Cases_12d','Cases_13d']].mean(axis=1)\n",
    "uk_F2['Cases_3d_Ave4']= uk_F2[['Cases_12d','Cases_13d','Cases_14d']].mean(axis=1)\n",
    "uk_F2['Cases_3d_Ave5']= uk_F2[['Cases_13d','Cases_14d','Cases_15d']].mean(axis=1)\n",
    "\n",
    "x_ave=uk_F2[['Cases_3d_Ave1','Cases_3d_Ave2','Cases_3d_Ave3','Cases_3d_Ave4','Cases_3d_Ave5']]\n",
    "y=uk_F2['deaths']\n",
    "uk_F2['D_3dAve'] = lm_3d.predict(x_ave)\n",
    "print (\"3day average: \", lm_3d.score(x_ave, y))\n",
    "\n",
    "uk_F2['Cases_4d_Ave1']= uk_F2[['Cases_9d','Cases_10d','Cases_11d','Cases_12d']].mean(axis=1)\n",
    "uk_F2['Cases_4d_Ave2']= uk_F2[['Cases_10d','Cases_11d','Cases_12d','Cases_13d']].mean(axis=1)\n",
    "uk_F2['Cases_4d_Ave3']= uk_F2[['Cases_11d','Cases_12d','Cases_13d','Cases_14d']].mean(axis=1)\n",
    "uk_F2['Cases_4d_Ave4']= uk_F2[['Cases_12d','Cases_13d','Cases_14d','Cases_15d']].mean(axis=1)\n",
    "\n",
    "x_ave=uk_F2[['Cases_4d_Ave1','Cases_4d_Ave2','Cases_4d_Ave3','Cases_4d_Ave4']]\n",
    "y=uk_F2['deaths']\n",
    "uk_F2['D_4dAve'] = lm_4d.predict(x_ave)\n",
    "print (\"4day average: \", lm_4d.score(x_ave, y))\n",
    "\n",
    "uk_F2['Cases_5d_Ave1']= uk_F2[['Cases_9d','Cases_10d','Cases_11d','Cases_12d','Cases_13d']].mean(axis=1)\n",
    "uk_F2['Cases_5d_Ave2']= uk_F2[['Cases_10d','Cases_11d','Cases_12d','Cases_13d','Cases_14d']].mean(axis=1)\n",
    "uk_F2['Cases_5d_Ave3']= uk_F2[['Cases_11d','Cases_12d','Cases_13d','Cases_14d','Cases_15d']].mean(axis=1)\n",
    "\n",
    "x_ave=uk_F2[['Cases_5d_Ave1','Cases_5d_Ave2','Cases_5d_Ave3']]\n",
    "y=uk_F2['deaths']\n",
    "uk_F2['D_5dAve'] = lm_5d.predict(x_ave)\n",
    "print (\"5day average: \", lm_5d.score(x_ave, y))\n"
   ]
  },
  {
   "cell_type": "code",
   "execution_count": null,
   "metadata": {},
   "outputs": [],
   "source": [
    "uk_F3 = pd.DataFrame()\n",
    "uk_F3['D_Reg']=uk_F2['D_Reg'] \n",
    "uk_F3['D_2dAve']=uk_F2['D_2dAve']\n",
    "uk_F3['D_3dAve']=uk_F2['D_3dAve']\n",
    "uk_F3['D_4dAve']=uk_F2['D_4dAve']\n",
    "uk_F3['D_Ave']= uk_F2[['D_Reg','D_2dAve','D_3dAve','D_4dAve']].mean(axis=1)\n",
    "\n",
    "uk_F3['deaths']=uk_F2['deaths'].shift(-5)"
   ]
  },
  {
   "cell_type": "code",
   "execution_count": null,
   "metadata": {},
   "outputs": [],
   "source": [
    "uk_F3.tail(10)"
   ]
  },
  {
   "cell_type": "code",
   "execution_count": null,
   "metadata": {},
   "outputs": [],
   "source": [
    "x_plot = uk_F3.tail(10).index\n",
    "y_plot = uk_F3['deaths'].tail(10)\n",
    "\n",
    "y_hat1 = uk_F3['D_Reg'].tail(10)\n",
    "y_hat2 = uk_F3['D_2dAve'].tail(10)\n",
    "y_hat3 = uk_F3['D_3dAve'].tail(10)\n",
    "y_hat5 = uk_F3['D_4dAve'].tail(10)\n",
    "y_hat3 = uk_F3['D_Ave'].tail(10)\n",
    "\n",
    "plt.title('Predition')\n",
    "plt.xlabel('Days')\n",
    "plt.ylabel('Deaths')\n",
    "\n",
    "plt.plot(x_plot,y_hat1, color='red', label='Regression')\n",
    "plt.plot(x_plot,y_hat2, color='purple', label='2day roll')\n",
    "plt.plot(x_plot,y_hat3, color='orange', label='3day roll')\n",
    "plt.plot(x_plot,y_hat3, color='green', label='4day roll')\n",
    "plt.plot(x_plot,y_hat3, color='black', label='AVERAGE')\n",
    "plt.plot(x_plot,y_plot, color='blue',linewidth=5, label='Actual')\n",
    "\n",
    "plt.legend()"
   ]
  },
  {
   "cell_type": "code",
   "execution_count": null,
   "metadata": {},
   "outputs": [],
   "source": [
    "import datetime\n",
    "datefortoday=datetime.date.today()\n",
    "dateforyesterday=datefortoday-datetime.timedelta(days = 1)\n",
    "savename= \"death_prediction_\"+str(dateforyesterday)+\".csv\"\n",
    "print(savename)\n",
    "uk_F3.tail(10).to_csv(savename)"
   ]
  },
  {
   "cell_type": "markdown",
   "metadata": {},
   "source": [
    "## Quality on the Cases\n",
    "The number of cases reported on daily basis have a high degree of variability.  \n",
    "More details are needed on cases, to help with the predictions:\n",
    "* Quality of the testing variables such as \"Total Number of cases performed\"\n",
    "* Age of the confirmed cases.  eg: average age of those tested... "
   ]
  },
  {
   "cell_type": "code",
   "execution_count": null,
   "metadata": {},
   "outputs": [],
   "source": []
  }
 ],
 "metadata": {
  "kernelspec": {
   "display_name": "Python 3",
   "language": "python",
   "name": "python3"
  },
  "language_info": {
   "codemirror_mode": {
    "name": "ipython",
    "version": 3
   },
   "file_extension": ".py",
   "mimetype": "text/x-python",
   "name": "python",
   "nbconvert_exporter": "python",
   "pygments_lexer": "ipython3",
   "version": "3.7.6"
  }
 },
 "nbformat": 4,
 "nbformat_minor": 4
}
