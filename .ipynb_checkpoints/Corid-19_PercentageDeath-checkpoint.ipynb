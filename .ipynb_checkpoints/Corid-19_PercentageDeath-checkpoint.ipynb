{
 "cells": [
  {
   "cell_type": "code",
   "execution_count": 1,
   "metadata": {},
   "outputs": [],
   "source": [
    "import datetime\n",
    "from datetime import datetime\n",
    "import pandas as pd\n",
    "import matplotlib.pylab as plt\n",
    "from matplotlib import pyplot\n",
    "import seaborn as sns\n",
    "%matplotlib inline "
   ]
  },
  {
   "cell_type": "code",
   "execution_count": 25,
   "metadata": {},
   "outputs": [],
   "source": [
    "today_date=datetime.now()\n",
    "#filename = \"https://www.ecdc.europa.eu/sites/default/files/documents/COVID-19-geographic-disbtribution-worldwide-\"+today_date.strftime('%Y')+\"-\"+today_date.strftime('%m')+\"-\"+today_date.strftime('%d')+ \".xlsx\"\n",
    "filename =\"https://www.ecdc.europa.eu/sites/default/files/documents/COVID-19-geographic-disbtribution-worldwide-2020-03-25.xlsx\"\n",
    "df=pd.read_excel(filename)"
   ]
  },
  {
   "cell_type": "code",
   "execution_count": 3,
   "metadata": {},
   "outputs": [],
   "source": [
    "df_cn_1=df.loc[df[\"GeoId\"]=='CN']\n",
    "df_cn_C = df_cn_1.sort_values('DateRep')\n",
    "\n",
    "df_cn_C['T_Cases'] = df_cn_C['Cases'].cumsum()\n",
    "df_cn_C['T_Deaths'] = df_cn_C['Deaths'].cumsum()\n",
    "df_cn_C['per_death']=df_cn_C['T_Deaths']/df_cn_C['T_Cases']\n",
    "\n",
    "df_cn_C = df_cn_C.reset_index(drop=True)\n"
   ]
  },
  {
   "cell_type": "code",
   "execution_count": 4,
   "metadata": {},
   "outputs": [],
   "source": [
    "df_it_P=df.loc[df[\"GeoId\"]=='IT']\n",
    "df_it_P1 = df_it_P.sort_values('DateRep')\n",
    "\n",
    "df_it_P1['T_Cases'] = df_it_P1['Cases'].cumsum()\n",
    "df_it_P1['T_Deaths'] = df_it_P1['Deaths'].cumsum()\n",
    "df_it_P1['per_death']=df_it_P1['T_Deaths']/df_it_P1['T_Cases']\n",
    "\n",
    "df_it_P1 = df_it_P1.reset_index(drop=True)"
   ]
  },
  {
   "cell_type": "code",
   "execution_count": 5,
   "metadata": {},
   "outputs": [],
   "source": [
    "df_uk_P=df.loc[df[\"GeoId\"]=='UK']\n",
    "df_uk_P1 = df_uk_P.sort_values('DateRep')\n",
    "\n",
    "df_uk_P1['T_Cases'] = df_uk_P1['Cases'].cumsum()\n",
    "df_uk_P1['T_Deaths'] = df_uk_P1['Deaths'].cumsum()\n",
    "df_uk_P1['per_death']=df_uk_P1['T_Deaths']/df_uk_P1['T_Cases']\n",
    "\n",
    "df_uk_P1 = df_uk_P1.reset_index(drop=True)"
   ]
  },
  {
   "cell_type": "code",
   "execution_count": 6,
   "metadata": {},
   "outputs": [],
   "source": [
    "df_us_P=df.loc[df[\"GeoId\"]=='US']\n",
    "df_us_P1 = df_us_P.sort_values('DateRep')\n",
    "\n",
    "df_us_P1['T_Cases'] = df_us_P1['Cases'].cumsum()\n",
    "df_us_P1['T_Deaths'] = df_us_P1['Deaths'].cumsum()\n",
    "df_us_P1['per_death']=df_us_P1['T_Deaths']/df_us_P1['T_Cases']\n",
    "\n",
    "df_us_P1 = df_us_P1.reset_index(drop=True)"
   ]
  },
  {
   "cell_type": "code",
   "execution_count": 28,
   "metadata": {},
   "outputs": [
    {
     "name": "stderr",
     "output_type": "stream",
     "text": [
      "/Users/michal/opt/anaconda3/lib/python3.7/site-packages/pandas/core/frame.py:3997: SettingWithCopyWarning: \n",
      "A value is trying to be set on a copy of a slice from a DataFrame\n",
      "\n",
      "See the caveats in the documentation: https://pandas.pydata.org/pandas-docs/stable/user_guide/indexing.html#returning-a-view-versus-a-copy\n",
      "  errors=errors,\n",
      "/Users/michal/opt/anaconda3/lib/python3.7/site-packages/ipykernel_launcher.py:3: FutureWarning: Indexing with multiple keys (implicitly converted to a tuple of keys) will be deprecated, use a list instead.\n",
      "  This is separate from the ipykernel package so we can avoid doing imports until\n"
     ]
    },
    {
     "data": {
      "text/html": [
       "<div>\n",
       "<style scoped>\n",
       "    .dataframe tbody tr th:only-of-type {\n",
       "        vertical-align: middle;\n",
       "    }\n",
       "\n",
       "    .dataframe tbody tr th {\n",
       "        vertical-align: top;\n",
       "    }\n",
       "\n",
       "    .dataframe thead th {\n",
       "        text-align: right;\n",
       "    }\n",
       "</style>\n",
       "<table border=\"1\" class=\"dataframe\">\n",
       "  <thead>\n",
       "    <tr style=\"text-align: right;\">\n",
       "      <th></th>\n",
       "      <th>Cases</th>\n",
       "      <th>Deaths</th>\n",
       "      <th>T_Cases</th>\n",
       "      <th>T_Deaths</th>\n",
       "      <th>per_death</th>\n",
       "    </tr>\n",
       "  </thead>\n",
       "  <tbody>\n",
       "    <tr>\n",
       "      <th>0</th>\n",
       "      <td>0</td>\n",
       "      <td>0</td>\n",
       "      <td>0</td>\n",
       "      <td>0</td>\n",
       "      <td>NaN</td>\n",
       "    </tr>\n",
       "    <tr>\n",
       "      <th>1</th>\n",
       "      <td>0</td>\n",
       "      <td>0</td>\n",
       "      <td>0</td>\n",
       "      <td>0</td>\n",
       "      <td>NaN</td>\n",
       "    </tr>\n",
       "    <tr>\n",
       "      <th>2</th>\n",
       "      <td>0</td>\n",
       "      <td>0</td>\n",
       "      <td>0</td>\n",
       "      <td>0</td>\n",
       "      <td>NaN</td>\n",
       "    </tr>\n",
       "    <tr>\n",
       "      <th>3</th>\n",
       "      <td>0</td>\n",
       "      <td>0</td>\n",
       "      <td>0</td>\n",
       "      <td>0</td>\n",
       "      <td>NaN</td>\n",
       "    </tr>\n",
       "    <tr>\n",
       "      <th>4</th>\n",
       "      <td>0</td>\n",
       "      <td>0</td>\n",
       "      <td>0</td>\n",
       "      <td>0</td>\n",
       "      <td>NaN</td>\n",
       "    </tr>\n",
       "    <tr>\n",
       "      <th>...</th>\n",
       "      <td>...</td>\n",
       "      <td>...</td>\n",
       "      <td>...</td>\n",
       "      <td>...</td>\n",
       "      <td>...</td>\n",
       "    </tr>\n",
       "    <tr>\n",
       "      <th>81</th>\n",
       "      <td>28676</td>\n",
       "      <td>1360</td>\n",
       "      <td>189812</td>\n",
       "      <td>7990</td>\n",
       "      <td>0.042094</td>\n",
       "    </tr>\n",
       "    <tr>\n",
       "      <th>82</th>\n",
       "      <td>33964</td>\n",
       "      <td>1684</td>\n",
       "      <td>223776</td>\n",
       "      <td>9674</td>\n",
       "      <td>0.043231</td>\n",
       "    </tr>\n",
       "    <tr>\n",
       "      <th>83</th>\n",
       "      <td>32878</td>\n",
       "      <td>1651</td>\n",
       "      <td>256654</td>\n",
       "      <td>11325</td>\n",
       "      <td>0.044126</td>\n",
       "    </tr>\n",
       "    <tr>\n",
       "      <th>84</th>\n",
       "      <td>39638</td>\n",
       "      <td>1757</td>\n",
       "      <td>296292</td>\n",
       "      <td>13082</td>\n",
       "      <td>0.044152</td>\n",
       "    </tr>\n",
       "    <tr>\n",
       "      <th>85</th>\n",
       "      <td>38777</td>\n",
       "      <td>2196</td>\n",
       "      <td>335069</td>\n",
       "      <td>15278</td>\n",
       "      <td>0.045597</td>\n",
       "    </tr>\n",
       "  </tbody>\n",
       "</table>\n",
       "<p>86 rows × 5 columns</p>\n",
       "</div>"
      ],
      "text/plain": [
       "    Cases  Deaths  T_Cases  T_Deaths  per_death\n",
       "0       0       0        0         0        NaN\n",
       "1       0       0        0         0        NaN\n",
       "2       0       0        0         0        NaN\n",
       "3       0       0        0         0        NaN\n",
       "4       0       0        0         0        NaN\n",
       "..    ...     ...      ...       ...        ...\n",
       "81  28676    1360   189812      7990   0.042094\n",
       "82  33964    1684   223776      9674   0.043231\n",
       "83  32878    1651   256654     11325   0.044126\n",
       "84  39638    1757   296292     13082   0.044152\n",
       "85  38777    2196   335069     15278   0.045597\n",
       "\n",
       "[86 rows x 5 columns]"
      ]
     },
     "execution_count": 28,
     "metadata": {},
     "output_type": "execute_result"
    }
   ],
   "source": [
    "df_all_P=df.loc[df[\"GeoId\"]!='CN']\n",
    "df_all_P.drop(['Countries and territories','Day','Month','Year','GeoId','Pop_Data.2018'], axis=1, inplace=True)\n",
    "df_all_P1=df_all_P.groupby(['DateRep'])['Cases', 'Deaths'].sum()\n",
    "\n",
    "df_all_P2 = df_all_P1.sort_values('DateRep')\n",
    "\n",
    "df_all_P2['T_Cases'] = df_all_P2['Cases'].cumsum()\n",
    "df_all_P2['T_Deaths'] = df_all_P2['Deaths'].cumsum()\n",
    "df_all_P2['per_death']=df_all_P2['T_Deaths']/df_all_P2['T_Cases']\n",
    "\n",
    "df_all_P2 = df_all_P2.reset_index(drop=True)\n",
    "\n",
    "df_all_P2"
   ]
  },
  {
   "cell_type": "code",
   "execution_count": 30,
   "metadata": {},
   "outputs": [
    {
     "data": {
      "text/plain": [
       "<matplotlib.legend.Legend at 0x1a265c9e50>"
      ]
     },
     "execution_count": 30,
     "metadata": {},
     "output_type": "execute_result"
    },
    {
     "data": {
      "image/png": "[encoded data removed]",
      "text/plain": [
       "<Figure size 432x288 with 1 Axes>"
      ]
     },
     "metadata": {
      "needs_background": "light"
     },
     "output_type": "display_data"
    }
   ],
   "source": [
    "x1 = df_cn_C.index\n",
    "y1 = df_cn_C['per_death']\n",
    "x2 = df_it_P1.index\n",
    "y2 = df_it_P1['per_death']\n",
    "x3 = df_uk_P1.index\n",
    "y3 = df_uk_P1['per_death']\n",
    "x4 = df_us_P1.index\n",
    "y4 = df_us_P1['per_death']\n",
    "x5 = df_all_P2.index\n",
    "y5 = df_all_P2['per_death']\n",
    "\n",
    "plt.plot(x1,y1, color='blue', label='CN')\n",
    "plt.plot(x2,y2, color='red', label='IT')\n",
    "plt.plot(x3,y3, color='orange', label='UK')\n",
    "plt.plot(x4,y4, color='purple', label='US')\n",
    "plt.plot(x5,y5, color='green', label='ALL excl CN')\n",
    "plt.legend()"
   ]
  },
  {
   "cell_type": "code",
   "execution_count": null,
   "metadata": {},
   "outputs": [],
   "source": []
  }
 ],
 "metadata": {
  "kernelspec": {
   "display_name": "Python 3",
   "language": "python",
   "name": "python3"
  },
  "language_info": {
   "codemirror_mode": {
    "name": "ipython",
    "version": 3
   },
   "file_extension": ".py",
   "mimetype": "text/x-python",
   "name": "python",
   "nbconvert_exporter": "python",
   "pygments_lexer": "ipython3",
   "version": "3.7.6"
  }
 },
 "nbformat": 4,
 "nbformat_minor": 4
}
