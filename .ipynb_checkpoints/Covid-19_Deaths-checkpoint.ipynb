{
 "cells": [
  {
   "cell_type": "markdown",
   "metadata": {},
   "source": [
    "## Death Predictions"
   ]
  },
  {
   "cell_type": "markdown",
   "metadata": {},
   "source": [
    "The question is whether we are able to predict how many deaths will occur bases known factors. \n",
    "\n",
    "Assumptions:\n",
    "* Countries' data are unique due to: \n",
    " * Different case recording methodolodies.  eg: Germany test more while UK and Italy test only the most severe cases\n",
    " * Different social dynamics.  eg: Italy has a very family (larger family) centered life\n",
    " * Different age distribution.  The older are more likely to die due to the Covid-19\n",
    " * Different infection rates along different ages.  eg: Germany average age of the infected is apparently around 43, while Italy is around 68 (higher mortality rate)\n",
    " * Different relgious practices.  Italy is predomantly roman catholic.  Church goes dip their fingers in holi water when they go & leave church and make the sign of the cross that includes touching their forehead (infection vector).  Combine with the church going demographic\n",
    "* Covid-19 cycle:\n",
    " * Day 7/8 admit to hospital (most likely tested at this point)\n",
    " * Day 17/18 Death occurs in worst cases"
   ]
  },
  {
   "cell_type": "code",
   "execution_count": 1,
   "metadata": {},
   "outputs": [],
   "source": [
    "import pandas as pd\n",
    "import matplotlib.pylab as plt\n",
    "from matplotlib import pyplot\n",
    "import seaborn as sns\n",
    "%matplotlib inline "
   ]
  },
  {
   "cell_type": "code",
   "execution_count": 2,
   "metadata": {},
   "outputs": [],
   "source": [
    "from datetime import datetime\n",
    "today_date=datetime.now()\n",
    "#filename = \"https://www.ecdc.europa.eu/sites/default/files/documents/COVID-19-geographic-disbtribution-worldwide-\"+today_date.strftime('%Y')+\"-\"+today_date.strftime('%m')+\"-\"+today_date.strftime('%d')+ \".xlsx\"\n",
    "filename =\"https://www.ecdc.europa.eu/sites/default/files/documents/COVID-19-geographic-disbtribution-worldwide-2020-03-28.xlsx\"\n",
    "df=pd.read_excel(filename)"
   ]
  },
  {
   "cell_type": "markdown",
   "metadata": {},
   "source": [
    "### Looked at total deaths as a % of total cases in different countries"
   ]
  },
  {
   "cell_type": "code",
   "execution_count": 3,
   "metadata": {},
   "outputs": [],
   "source": [
    "cn_1=df.loc[df[\"geoId\"]=='CN']\n",
    "cn_C = cn_1.sort_values('dateRep')\n",
    "\n",
    "cn_C['T_Cases'] = cn_C['cases'].cumsum()\n",
    "cn_C['T_Deaths'] = cn_C['deaths'].cumsum()\n",
    "cn_C['per_death']=cn_C['T_Deaths']/cn_C['T_Cases']\n",
    "\n",
    "cn_C = cn_C.reset_index(drop=True)"
   ]
  },
  {
   "cell_type": "code",
   "execution_count": 4,
   "metadata": {},
   "outputs": [],
   "source": [
    "it_P=df.loc[df[\"geoId\"]=='IT']\n",
    "it_P1 = it_P.sort_values('dateRep')\n",
    "\n",
    "it_P1['T_cases'] = it_P1['cases'].cumsum()\n",
    "it_P1['T_deaths'] = it_P1['deaths'].cumsum()\n",
    "it_P1['per_death']=it_P1['T_deaths']/it_P1['T_cases']\n",
    "\n",
    "it_P1 = it_P1.reset_index(drop=True)"
   ]
  },
  {
   "cell_type": "code",
   "execution_count": 5,
   "metadata": {},
   "outputs": [],
   "source": [
    "uk_P=df.loc[df[\"geoId\"]=='UK']\n",
    "uk_P1 = uk_P.sort_values('dateRep')\n",
    "\n",
    "uk_P1['T_Cases'] = uk_P1['cases'].cumsum()\n",
    "uk_P1['T_Deaths'] = uk_P1['deaths'].cumsum()\n",
    "uk_P1['per_death']=uk_P1['T_Deaths']/uk_P1['T_Cases']\n",
    "\n",
    "uk_P1 = uk_P1.reset_index(drop=True)"
   ]
  },
  {
   "cell_type": "code",
   "execution_count": 6,
   "metadata": {},
   "outputs": [],
   "source": [
    "de_P=df.loc[df[\"geoId\"]=='DE']\n",
    "de_P1 = de_P.sort_values('dateRep')\n",
    "\n",
    "de_P1['T_Cases'] = de_P1['cases'].cumsum()\n",
    "de_P1['T_Deaths'] = de_P1['deaths'].cumsum()\n",
    "de_P1['per_death']=de_P1['T_Deaths']/de_P1['T_Cases']\n",
    "\n",
    "de_P1 = de_P1.reset_index(drop=True)"
   ]
  },
  {
   "cell_type": "code",
   "execution_count": 7,
   "metadata": {},
   "outputs": [],
   "source": [
    "us_P=df.loc[df[\"geoId\"]=='US']\n",
    "us_P1 = us_P.sort_values('dateRep')\n",
    "\n",
    "us_P1['T_Cases'] = us_P1['cases'].cumsum()\n",
    "us_P1['T_Deaths'] = us_P1['deaths'].cumsum()\n",
    "us_P1['per_death']=us_P1['T_Deaths']/us_P1['T_Cases']\n",
    "\n",
    "us_P1 = us_P1.reset_index(drop=True)"
   ]
  },
  {
   "cell_type": "code",
   "execution_count": 8,
   "metadata": {},
   "outputs": [
    {
     "data": {
      "text/plain": [
       "<matplotlib.legend.Legend at 0x1a1750ff90>"
      ]
     },
     "execution_count": 8,
     "metadata": {},
     "output_type": "execute_result"
    },
    {
     "data": {
      "image/png": "[encoded data removed]",
      "text/plain": [
       "<Figure size 432x288 with 1 Axes>"
      ]
     },
     "metadata": {
      "needs_background": "light"
     },
     "output_type": "display_data"
    }
   ],
   "source": [
    "x1 = cn_C.index\n",
    "y1 = cn_C['per_death']\n",
    "x2 = it_P1.index\n",
    "y2 = it_P1['per_death']\n",
    "x3 = uk_P1.index\n",
    "y3 = uk_P1['per_death']\n",
    "x4 = de_P1.index\n",
    "y4 = de_P1['per_death']\n",
    "x5 = us_P1.index\n",
    "y5 = us_P1['per_death']\n",
    "\n",
    "plt.title('% of total deaths to total cases')\n",
    "plt.xlabel('Days')\n",
    "plt.ylabel('%')\n",
    "\n",
    "plt.plot(x1,y1, color='blue', label='CN')\n",
    "plt.plot(x2,y2, color='red', label='IT')\n",
    "plt.plot(x3,y3, color='orange', label='UK')\n",
    "plt.plot(x4,y4, color='purple', label='DE')\n",
    "plt.plot(x5,y5, color='yellow', label='US')\n",
    "plt.legend()"
   ]
  },
  {
   "cell_type": "markdown",
   "metadata": {},
   "source": [
    "Shows that the Covid-19 mortality factors care different from country to country. "
   ]
  },
  {
   "cell_type": "markdown",
   "metadata": {},
   "source": [
    "### Look at correlation of deaths to past recorded cases"
   ]
  },
  {
   "cell_type": "markdown",
   "metadata": {},
   "source": [
    "Assume case record occurs at day 7 of the virus cycle"
   ]
  },
  {
   "cell_type": "code",
   "execution_count": 9,
   "metadata": {},
   "outputs": [
    {
     "name": "stderr",
     "output_type": "stream",
     "text": [
      "/Users/michal/opt/anaconda3/lib/python3.7/site-packages/pandas/core/frame.py:3997: SettingWithCopyWarning: \n",
      "A value is trying to be set on a copy of a slice from a DataFrame\n",
      "\n",
      "See the caveats in the documentation: https://pandas.pydata.org/pandas-docs/stable/user_guide/indexing.html#returning-a-view-versus-a-copy\n",
      "  errors=errors,\n"
     ]
    }
   ],
   "source": [
    "uk_C=df.loc[df[\"geoId\"]=='UK']\n",
    "uk_C1 = uk_C.sort_values('dateRep')\n",
    "\n",
    "uk_C1['Cases_8d']= uk_C1['cases'].shift(8)\n",
    "uk_C1['Cases_9d']= uk_C1['cases'].shift(9)\n",
    "uk_C1['Cases_10d']= uk_C1['cases'].shift(10)\n",
    "uk_C1['Cases_11d']= uk_C1['cases'].shift(11)\n",
    "uk_C1['Cases_12d']= uk_C1['cases'].shift(12)\n",
    "uk_C1['Cases_13d']= uk_C1['cases'].shift(13)\n",
    "uk_C1['Cases_14d']= uk_C1['cases'].shift(14)\n",
    "uk_C1['Cases_15d']= uk_C1['cases'].shift(15)\n",
    "uk_C2 = uk_C1.dropna()\n",
    "\n",
    "#remove the cases without recognised cases.  there seem to be a gap at the beginning.  \n",
    "indexNamesC = uk_C2[uk_C2['cases'] == 0 ].index\n",
    "uk_C2.drop(indexNamesC, inplace=True)\n",
    "\n",
    "uk_C2 = uk_C2.reset_index(drop=True)"
   ]
  },
  {
   "cell_type": "code",
   "execution_count": 10,
   "metadata": {},
   "outputs": [
    {
     "name": "stdout",
     "output_type": "stream",
     "text": [
      "8d:  0.7732169617764062\n",
      "9d:  0.8753154762264528\n",
      "10d:  0.7475423228954526\n",
      "11d:  0.39066784690678535\n",
      "12d:  0.738509081760641\n",
      "13d:  0.8212332685266743\n",
      "14d:  0.8372353022806825\n",
      "15d:  0.9321766332615808\n"
     ]
    }
   ],
   "source": [
    "from sklearn.linear_model import LinearRegression\n",
    "\n",
    "lm = LinearRegression()\n",
    "x3=uk_C2[['Cases_8d']]\n",
    "x4=uk_C2[['Cases_9d']]\n",
    "x5=uk_C2[['Cases_10d']]\n",
    "x6=uk_C2[['Cases_11d']]\n",
    "x7=uk_C2[['Cases_12d']]\n",
    "x8=uk_C2[['Cases_13d']]\n",
    "x9=uk_C2[['Cases_14d']]\n",
    "x10=uk_C2[['Cases_15d']]\n",
    "y=uk_C2['deaths']\n",
    "\n",
    "lm.fit(x3, y)\n",
    "print (\"8d: \",lm.score(x3, y))\n",
    "lm.fit(x4, y)\n",
    "print (\"9d: \",lm.score(x4, y))\n",
    "lm.fit(x5, y)\n",
    "print (\"10d: \",lm.score(x5, y))\n",
    "lm.fit(x6, y)\n",
    "print (\"11d: \",lm.score(x6, y))\n",
    "lm.fit(x7, y)\n",
    "print (\"12d: \",lm.score(x7, y))\n",
    "lm.fit(x8, y)\n",
    "print (\"13d: \",lm.score(x8, y))\n",
    "lm.fit(x9, y)\n",
    "print (\"14d: \",lm.score(x9, y))\n",
    "lm.fit(x10, y)\n",
    "print (\"15d: \",lm.score(x10, y))"
   ]
  },
  {
   "cell_type": "markdown",
   "metadata": {},
   "source": [
    "### Look at a correlation with a range of days.  "
   ]
  },
  {
   "cell_type": "code",
   "execution_count": 11,
   "metadata": {},
   "outputs": [
    {
     "name": "stdout",
     "output_type": "stream",
     "text": [
      "0.9676909797601301\n"
     ]
    },
    {
     "data": {
      "text/plain": [
       "<matplotlib.legend.Legend at 0x1a176818d0>"
      ]
     },
     "execution_count": 11,
     "metadata": {},
     "output_type": "execute_result"
    },
    {
     "data": {
      "image/png": "[encoded data removed]",
      "text/plain": [
       "<Figure size 432x288 with 1 Axes>"
      ]
     },
     "metadata": {
      "needs_background": "light"
     },
     "output_type": "display_data"
    }
   ],
   "source": [
    "lm_reg = LinearRegression()\n",
    "x_5c=uk_C2[['Cases_11d','Cases_12d','Cases_13d','Cases_14d','Cases_15d']]\n",
    "lm_reg.fit(x_5c, y)\n",
    "print (lm_reg.score(x_5c, y))\n",
    "\n",
    "Death_hat_uk = lm_reg.predict(x_5c)\n",
    "\n",
    "x_plot = uk_C2.index\n",
    "y_plot = uk_C2['deaths']\n",
    "#x = df_it_C.index\n",
    "y_hat1 = Death_hat_uk\n",
    "\n",
    "plt.title('Actual vs Predicted Deaths')\n",
    "plt.xlabel('Days')\n",
    "plt.ylabel('Deaths')\n",
    "\n",
    "plt.plot(x_plot,y_plot, color='blue', label='Actual')\n",
    "plt.plot(x_plot,y_hat1, color='red', label='Predicted')\n",
    "plt.legend()\n"
   ]
  },
  {
   "cell_type": "markdown",
   "metadata": {},
   "source": [
    "As can be seen there is quite a bit a variability in the fatalisies on a daily basis. "
   ]
  },
  {
   "cell_type": "markdown",
   "metadata": {},
   "source": [
    "## Look at at a rolling average"
   ]
  },
  {
   "cell_type": "markdown",
   "metadata": {},
   "source": [
    "See is a rolling average can smooth the volatile cases numbers"
   ]
  },
  {
   "cell_type": "code",
   "execution_count": 12,
   "metadata": {},
   "outputs": [
    {
     "name": "stdout",
     "output_type": "stream",
     "text": [
      "3days 9-11:  0.8538163092767559\n",
      "3days 10-12:  0.7237546448582076\n",
      "3days 11-13:  0.5989342188337086\n",
      "3days 12-14:  0.9161720836760858\n",
      "3days 13-15:  0.9253456085030958\n"
     ]
    }
   ],
   "source": [
    "uk_C2['Cases_3d_Ave1']= uk_C2[['Cases_9d','Cases_10d','Cases_11d']].mean(axis=1)\n",
    "uk_C2['Cases_3d_Ave2']= uk_C2[['Cases_10d','Cases_10d','Cases_11d']].mean(axis=1)\n",
    "uk_C2['Cases_3d_Ave3']= uk_C2[['Cases_11d','Cases_10d','Cases_11d']].mean(axis=1)\n",
    "uk_C2['Cases_3d_Ave4']= uk_C2[['Cases_12d','Cases_13d','Cases_14d']].mean(axis=1)\n",
    "uk_C2['Cases_3d_Ave5']= uk_C2[['Cases_13d','Cases_14d','Cases_15d']].mean(axis=1)\n",
    "\n",
    "x_ave=uk_C2[['Cases_3d_Ave1']]\n",
    "y=uk_C2['deaths']\n",
    "lm.fit(x_ave, y)\n",
    "print (\"3days 9-11: \", lm.score(x_ave, y))\n",
    "\n",
    "x_ave=uk_C2[['Cases_3d_Ave2']]\n",
    "y=uk_C2['deaths']\n",
    "lm.fit(x_ave, y)\n",
    "print (\"3days 10-12: \", lm.score(x_ave, y))\n",
    "\n",
    "x_ave=uk_C2[['Cases_3d_Ave3']]\n",
    "y=uk_C2['deaths']\n",
    "lm.fit(x_ave, y)\n",
    "print (\"3days 11-13: \", lm.score(x_ave, y))\n",
    "\n",
    "x_ave=uk_C2[['Cases_3d_Ave4']]\n",
    "y=uk_C2['deaths']\n",
    "lm.fit(x_ave, y)\n",
    "print (\"3days 12-14: \", lm.score(x_ave, y))\n",
    "\n",
    "x_ave=uk_C2[['Cases_3d_Ave5']]\n",
    "y=uk_C2['deaths']\n",
    "lm.fit(x_ave, y)\n",
    "print (\"3days 13-15: \", lm.score(x_ave, y))"
   ]
  },
  {
   "cell_type": "code",
   "execution_count": 13,
   "metadata": {},
   "outputs": [
    {
     "name": "stdout",
     "output_type": "stream",
     "text": [
      "4days 9-12:  0.8783851435854759\n",
      "4days 10-13:  0.8520283660905661\n",
      "4days 11-14:  0.8161853765574048\n",
      "4days 12-15:  0.9303199759397639\n"
     ]
    }
   ],
   "source": [
    "uk_C2['Cases_4d_Ave1']= uk_C2[['Cases_9d','Cases_10d','Cases_11d','Cases_12d']].mean(axis=1)\n",
    "uk_C2['Cases_4d_Ave2']= uk_C2[['Cases_10d','Cases_11d','Cases_12d','Cases_13d']].mean(axis=1)\n",
    "uk_C2['Cases_4d_Ave3']= uk_C2[['Cases_11d','Cases_12d','Cases_13d','Cases_14d']].mean(axis=1)\n",
    "uk_C2['Cases_4d_Ave4']= uk_C2[['Cases_12d','Cases_13d','Cases_14d','Cases_15d']].mean(axis=1)\n",
    "\n",
    "x_ave=uk_C2[['Cases_4d_Ave1']]\n",
    "y=uk_C2['deaths']\n",
    "lm.fit(x_ave, y)\n",
    "Death_hat_uk_ave1 = lm.predict(x_ave)\n",
    "print (\"4days 9-12: \", lm.score(x_ave, y))\n",
    "\n",
    "x_ave=uk_C2[['Cases_4d_Ave2']]\n",
    "y=uk_C2['deaths']\n",
    "lm.fit(x_ave, y)\n",
    "Death_hat_uk_ave1 = lm.predict(x_ave)\n",
    "print (\"4days 10-13: \", lm.score(x_ave, y))\n",
    "\n",
    "x_ave=uk_C2[['Cases_4d_Ave3']]\n",
    "y=uk_C2['deaths']\n",
    "lm.fit(x_ave, y)\n",
    "Death_hat_uk_ave1 = lm.predict(x_ave)\n",
    "print (\"4days 11-14: \", lm.score(x_ave, y))\n",
    "\n",
    "x_ave=uk_C2[['Cases_4d_Ave4']]\n",
    "y=uk_C2['deaths']\n",
    "lm.fit(x_ave, y)\n",
    "Death_hat_uk_ave1 = lm.predict(x_ave)\n",
    "print (\"4days 12-15: \", lm.score(x_ave, y))"
   ]
  },
  {
   "cell_type": "code",
   "execution_count": 14,
   "metadata": {},
   "outputs": [
    {
     "name": "stdout",
     "output_type": "stream",
     "text": [
      "5days 9-13:  0.9047001124204355\n",
      "5days 10-14:  0.8598285635940561\n",
      "5days 11-15:  0.8400445098501789\n"
     ]
    }
   ],
   "source": [
    "uk_C2['Cases_5d_Ave1']= uk_C2[['Cases_9d','Cases_10d','Cases_11d','Cases_12d','Cases_13d']].mean(axis=1)\n",
    "uk_C2['Cases_5d_Ave2']= uk_C2[['Cases_10d','Cases_11d','Cases_12d','Cases_13d','Cases_14d']].mean(axis=1)\n",
    "uk_C2['Cases_5d_Ave3']= uk_C2[['Cases_11d','Cases_12d','Cases_13d','Cases_14d','Cases_15d']].mean(axis=1)\n",
    "\n",
    "x_ave=uk_C2[['Cases_5d_Ave1']]\n",
    "y=uk_C2['deaths']\n",
    "lm.fit(x_ave, y)\n",
    "Death_hat_uk_ave1 = lm.predict(x_ave)\n",
    "print (\"5days 9-13: \", lm.score(x_ave, y))\n",
    "\n",
    "x_ave=uk_C2[['Cases_5d_Ave2']]\n",
    "y=uk_C2['deaths']\n",
    "lm.fit(x_ave, y)\n",
    "Death_hat_uk_ave1 = lm.predict(x_ave)\n",
    "print (\"5days 10-14: \", lm.score(x_ave, y))\n",
    "\n",
    "x_ave=uk_C2[['Cases_5d_Ave3']]\n",
    "y=uk_C2['deaths']\n",
    "lm.fit(x_ave, y)\n",
    "Death_hat_uk_ave1 = lm.predict(x_ave)\n",
    "print (\"5days 11-15: \", lm.score(x_ave, y))"
   ]
  },
  {
   "cell_type": "code",
   "execution_count": 15,
   "metadata": {},
   "outputs": [
    {
     "name": "stdout",
     "output_type": "stream",
     "text": [
      "3day average:  0.9713564543159288\n",
      "4day average:  0.9753086882617085\n",
      "5day average:  0.9120455761467962\n"
     ]
    }
   ],
   "source": [
    "x_ave=uk_C2[['Cases_3d_Ave1','Cases_3d_Ave2','Cases_3d_Ave3','Cases_3d_Ave4','Cases_3d_Ave5']]\n",
    "y=uk_C2['deaths']\n",
    "lm_3d = LinearRegression()\n",
    "lm_3d.fit(x_ave, y)\n",
    "Death_hat_uk_3dave = lm_3d.predict(x_ave)\n",
    "print (\"3day average: \", lm_3d.score(x_ave, y))\n",
    "\n",
    "x_ave=uk_C2[['Cases_4d_Ave1','Cases_4d_Ave2','Cases_4d_Ave3','Cases_4d_Ave4']]\n",
    "y=uk_C2['deaths']\n",
    "lm_4d = LinearRegression()\n",
    "lm_4d.fit(x_ave, y)\n",
    "Death_hat_uk_4dave = lm_4d.predict(x_ave)\n",
    "print (\"4day average: \", lm_4d.score(x_ave, y))\n",
    "\n",
    "x_ave=uk_C2[['Cases_5d_Ave1','Cases_5d_Ave2','Cases_5d_Ave3']]\n",
    "y=uk_C2['deaths']\n",
    "lm_5d = LinearRegression()\n",
    "lm_5d.fit(x_ave, y)\n",
    "Death_hat_uk_5dave = lm_5d.predict(x_ave)\n",
    "print (\"5day average: \", lm_5d.score(x_ave, y))\n"
   ]
  },
  {
   "cell_type": "code",
   "execution_count": 16,
   "metadata": {},
   "outputs": [
    {
     "data": {
      "text/plain": [
       "<matplotlib.legend.Legend at 0x1a17563810>"
      ]
     },
     "execution_count": 16,
     "metadata": {},
     "output_type": "execute_result"
    },
    {
     "data": {
      "image/png": "[encoded data removed]",
      "text/plain": [
       "<Figure size 432x288 with 1 Axes>"
      ]
     },
     "metadata": {
      "needs_background": "light"
     },
     "output_type": "display_data"
    }
   ],
   "source": [
    "x_plot = uk_C2.index\n",
    "y_plot = uk_C2['deaths']\n",
    "\n",
    "y_hat1 = Death_hat_uk_3dave\n",
    "y_hat2 = Death_hat_uk_4dave\n",
    "y_hat3 = Death_hat_uk_4dave\n",
    "\n",
    "\n",
    "plt.title('Actual vs Predicted Deaths on a rolling average')\n",
    "plt.xlabel('Days')\n",
    "plt.ylabel('Deaths')\n",
    "\n",
    "plt.plot(x_plot,y_plot, color='blue', label='Actual')\n",
    "plt.plot(x_plot,y_hat1, color='red', label='3day')\n",
    "plt.plot(x_plot,y_hat2, color='purple', label='4day')\n",
    "plt.plot(x_plot,y_hat3, color='orange', label='5day')\n",
    "\n",
    "plt.legend()"
   ]
  },
  {
   "cell_type": "markdown",
   "metadata": {},
   "source": [
    "## Look at predictions for the next 5 days"
   ]
  },
  {
   "cell_type": "code",
   "execution_count": 17,
   "metadata": {},
   "outputs": [],
   "source": [
    "uk_F=df.loc[df[\"geoId\"]=='UK']\n",
    "uk_F1 = uk_F.sort_values('dateRep')\n",
    "uk_F1 = uk_F1.reset_index(drop=True)"
   ]
  },
  {
   "cell_type": "code",
   "execution_count": 18,
   "metadata": {},
   "outputs": [],
   "source": [
    "uk_F1['Cases_9d']= uk_F1['cases'].shift(4)\n",
    "uk_F1['Cases_10d']= uk_F1['cases'].shift(5)\n",
    "uk_F1['Cases_11d']= uk_F1['cases'].shift(6)\n",
    "uk_F1['Cases_12d']= uk_F1['cases'].shift(7)\n",
    "uk_F1['Cases_13d']= uk_F1['cases'].shift(8)\n",
    "uk_F1['Cases_14d']= uk_F1['cases'].shift(9)\n",
    "uk_F1['Cases_15d']= uk_F1['cases'].shift(10)\n",
    "\n",
    "uk_F1 = uk_F1.dropna()\n",
    "uk_F2= uk_F1.drop(['dateRep', 'day', 'year', 'month', 'cases','countriesAndTerritories','geoId','countryterritoryCode','popData2018'], axis=1)\n"
   ]
  },
  {
   "cell_type": "code",
   "execution_count": 19,
   "metadata": {},
   "outputs": [
    {
     "name": "stdout",
     "output_type": "stream",
     "text": [
      "3day average:  -2.011861424162591\n",
      "4day average:  -1.9473619234277613\n",
      "5day average:  -1.3935800936860856\n"
     ]
    }
   ],
   "source": [
    "x_reg=uk_F2[['Cases_11d','Cases_12d','Cases_13d','Cases_14d','Cases_15d']]\n",
    "uk_F2['D_Reg'] = lm_reg.predict(x_reg)\n",
    "\n",
    "uk_F2['Cases_3d_Ave1']= uk_F2[['Cases_9d','Cases_10d','Cases_11d']].mean(axis=1)\n",
    "uk_F2['Cases_3d_Ave2']= uk_F2[['Cases_10d','Cases_10d','Cases_11d']].mean(axis=1)\n",
    "uk_F2['Cases_3d_Ave3']= uk_F2[['Cases_11d','Cases_10d','Cases_11d']].mean(axis=1)\n",
    "uk_F2['Cases_3d_Ave4']= uk_F2[['Cases_12d','Cases_13d','Cases_14d']].mean(axis=1)\n",
    "uk_F2['Cases_3d_Ave5']= uk_F2[['Cases_13d','Cases_14d','Cases_15d']].mean(axis=1)\n",
    "\n",
    "x_ave=uk_F2[['Cases_3d_Ave1','Cases_3d_Ave2','Cases_3d_Ave3','Cases_3d_Ave4','Cases_3d_Ave5']]\n",
    "y=uk_F2['deaths']\n",
    "uk_F2['D_3dAve'] = lm_3d.predict(x_ave)\n",
    "print (\"3day average: \", lm_3d.score(x_ave, y))\n",
    "\n",
    "uk_F2['Cases_4d_Ave1']= uk_F2[['Cases_9d','Cases_10d','Cases_11d','Cases_12d']].mean(axis=1)\n",
    "uk_F2['Cases_4d_Ave2']= uk_F2[['Cases_10d','Cases_11d','Cases_12d','Cases_13d']].mean(axis=1)\n",
    "uk_F2['Cases_4d_Ave3']= uk_F2[['Cases_11d','Cases_12d','Cases_13d','Cases_14d']].mean(axis=1)\n",
    "uk_F2['Cases_4d_Ave4']= uk_F2[['Cases_12d','Cases_13d','Cases_14d','Cases_15d']].mean(axis=1)\n",
    "\n",
    "x_ave=uk_F2[['Cases_4d_Ave1','Cases_4d_Ave2','Cases_4d_Ave3','Cases_4d_Ave4']]\n",
    "y=uk_F2['deaths']\n",
    "uk_F2['D_4dAve'] = lm_4d.predict(x_ave)\n",
    "print (\"4day average: \", lm_4d.score(x_ave, y))\n",
    "\n",
    "uk_F2['Cases_5d_Ave1']= uk_F2[['Cases_9d','Cases_10d','Cases_11d','Cases_12d','Cases_13d']].mean(axis=1)\n",
    "uk_F2['Cases_5d_Ave2']= uk_F2[['Cases_10d','Cases_11d','Cases_12d','Cases_13d','Cases_14d']].mean(axis=1)\n",
    "uk_F2['Cases_5d_Ave3']= uk_F2[['Cases_11d','Cases_12d','Cases_13d','Cases_14d','Cases_15d']].mean(axis=1)\n",
    "\n",
    "x_ave=uk_F2[['Cases_5d_Ave1','Cases_5d_Ave2','Cases_5d_Ave3']]\n",
    "y=uk_F2['deaths']\n",
    "uk_F2['D_5dAve'] = lm_5d.predict(x_ave)\n",
    "print (\"5day average: \", lm_5d.score(x_ave, y))\n"
   ]
  },
  {
   "cell_type": "code",
   "execution_count": 20,
   "metadata": {},
   "outputs": [],
   "source": [
    "uk_F3 = pd.DataFrame()\n",
    "uk_F3['D_Reg']=uk_F2['D_Reg'] \n",
    "uk_F3['D_3dAve']=uk_F2['D_3dAve']\n",
    "uk_F3['D_4dAve']=uk_F2['D_4dAve']\n",
    "uk_F3['D_5dAve']=uk_F2['D_5dAve']\n",
    "uk_F3['D_Ave']= uk_F2[['D_Reg','D_3dAve','D_4dAve','D_5dAve']].mean(axis=1)\n",
    "\n",
    "uk_F3['deaths']=uk_F2['deaths'].shift(-5)"
   ]
  },
  {
   "cell_type": "code",
   "execution_count": 21,
   "metadata": {},
   "outputs": [
    {
     "data": {
      "text/html": [
       "<div>\n",
       "<style scoped>\n",
       "    .dataframe tbody tr th:only-of-type {\n",
       "        vertical-align: middle;\n",
       "    }\n",
       "\n",
       "    .dataframe tbody tr th {\n",
       "        vertical-align: top;\n",
       "    }\n",
       "\n",
       "    .dataframe thead th {\n",
       "        text-align: right;\n",
       "    }\n",
       "</style>\n",
       "<table border=\"1\" class=\"dataframe\">\n",
       "  <thead>\n",
       "    <tr style=\"text-align: right;\">\n",
       "      <th></th>\n",
       "      <th>D_Reg</th>\n",
       "      <th>D_3dAve</th>\n",
       "      <th>D_4dAve</th>\n",
       "      <th>D_5dAve</th>\n",
       "      <th>D_Ave</th>\n",
       "      <th>deaths</th>\n",
       "    </tr>\n",
       "  </thead>\n",
       "  <tbody>\n",
       "    <tr>\n",
       "      <th>79</th>\n",
       "      <td>60.111825</td>\n",
       "      <td>49.166572</td>\n",
       "      <td>51.611071</td>\n",
       "      <td>81.102903</td>\n",
       "      <td>60.498093</td>\n",
       "      <td>54.0</td>\n",
       "    </tr>\n",
       "    <tr>\n",
       "      <th>80</th>\n",
       "      <td>58.502601</td>\n",
       "      <td>85.777612</td>\n",
       "      <td>87.019280</td>\n",
       "      <td>83.888652</td>\n",
       "      <td>78.797036</td>\n",
       "      <td>87.0</td>\n",
       "    </tr>\n",
       "    <tr>\n",
       "      <th>81</th>\n",
       "      <td>43.779002</td>\n",
       "      <td>47.985084</td>\n",
       "      <td>42.785032</td>\n",
       "      <td>78.978727</td>\n",
       "      <td>53.381961</td>\n",
       "      <td>41.0</td>\n",
       "    </tr>\n",
       "    <tr>\n",
       "      <th>82</th>\n",
       "      <td>121.499928</td>\n",
       "      <td>113.010695</td>\n",
       "      <td>119.337573</td>\n",
       "      <td>109.654929</td>\n",
       "      <td>115.875781</td>\n",
       "      <td>115.0</td>\n",
       "    </tr>\n",
       "    <tr>\n",
       "      <th>83</th>\n",
       "      <td>183.933893</td>\n",
       "      <td>190.626524</td>\n",
       "      <td>187.060777</td>\n",
       "      <td>166.883895</td>\n",
       "      <td>182.126272</td>\n",
       "      <td>181.0</td>\n",
       "    </tr>\n",
       "    <tr>\n",
       "      <th>84</th>\n",
       "      <td>217.647131</td>\n",
       "      <td>202.155805</td>\n",
       "      <td>161.365429</td>\n",
       "      <td>159.782059</td>\n",
       "      <td>185.237606</td>\n",
       "      <td>NaN</td>\n",
       "    </tr>\n",
       "    <tr>\n",
       "      <th>85</th>\n",
       "      <td>346.081554</td>\n",
       "      <td>174.141000</td>\n",
       "      <td>231.092144</td>\n",
       "      <td>203.745675</td>\n",
       "      <td>238.765093</td>\n",
       "      <td>NaN</td>\n",
       "    </tr>\n",
       "    <tr>\n",
       "      <th>86</th>\n",
       "      <td>251.610432</td>\n",
       "      <td>247.923445</td>\n",
       "      <td>272.949003</td>\n",
       "      <td>291.333149</td>\n",
       "      <td>265.954007</td>\n",
       "      <td>NaN</td>\n",
       "    </tr>\n",
       "    <tr>\n",
       "      <th>87</th>\n",
       "      <td>293.177780</td>\n",
       "      <td>345.932312</td>\n",
       "      <td>314.204758</td>\n",
       "      <td>269.852575</td>\n",
       "      <td>305.791856</td>\n",
       "      <td>NaN</td>\n",
       "    </tr>\n",
       "    <tr>\n",
       "      <th>88</th>\n",
       "      <td>513.975459</td>\n",
       "      <td>355.906052</td>\n",
       "      <td>344.608013</td>\n",
       "      <td>287.409761</td>\n",
       "      <td>375.474821</td>\n",
       "      <td>NaN</td>\n",
       "    </tr>\n",
       "  </tbody>\n",
       "</table>\n",
       "</div>"
      ],
      "text/plain": [
       "         D_Reg     D_3dAve     D_4dAve     D_5dAve       D_Ave  deaths\n",
       "79   60.111825   49.166572   51.611071   81.102903   60.498093    54.0\n",
       "80   58.502601   85.777612   87.019280   83.888652   78.797036    87.0\n",
       "81   43.779002   47.985084   42.785032   78.978727   53.381961    41.0\n",
       "82  121.499928  113.010695  119.337573  109.654929  115.875781   115.0\n",
       "83  183.933893  190.626524  187.060777  166.883895  182.126272   181.0\n",
       "84  217.647131  202.155805  161.365429  159.782059  185.237606     NaN\n",
       "85  346.081554  174.141000  231.092144  203.745675  238.765093     NaN\n",
       "86  251.610432  247.923445  272.949003  291.333149  265.954007     NaN\n",
       "87  293.177780  345.932312  314.204758  269.852575  305.791856     NaN\n",
       "88  513.975459  355.906052  344.608013  287.409761  375.474821     NaN"
      ]
     },
     "execution_count": 21,
     "metadata": {},
     "output_type": "execute_result"
    }
   ],
   "source": [
    "uk_F3.tail(10)"
   ]
  },
  {
   "cell_type": "code",
   "execution_count": 24,
   "metadata": {},
   "outputs": [
    {
     "ename": "AttributeError",
     "evalue": "'Int64Index' object has no attribute 'tail'",
     "output_type": "error",
     "traceback": [
      "\u001b[0;31m---------------------------------------------------------------------------\u001b[0m",
      "\u001b[0;31mAttributeError\u001b[0m                            Traceback (most recent call last)",
      "\u001b[0;32m<ipython-input-24-037dfe114331>\u001b[0m in \u001b[0;36m<module>\u001b[0;34m\u001b[0m\n\u001b[0;32m----> 1\u001b[0;31m \u001b[0mx_plot\u001b[0m \u001b[0;34m=\u001b[0m \u001b[0muk_F3\u001b[0m\u001b[0;34m.\u001b[0m\u001b[0mindex\u001b[0m\u001b[0;34m.\u001b[0m\u001b[0mtail\u001b[0m\u001b[0;34m(\u001b[0m\u001b[0;36m10\u001b[0m\u001b[0;34m)\u001b[0m\u001b[0;34m\u001b[0m\u001b[0;34m\u001b[0m\u001b[0m\n\u001b[0m\u001b[1;32m      2\u001b[0m \u001b[0my_plot\u001b[0m \u001b[0;34m=\u001b[0m \u001b[0muk_F3\u001b[0m\u001b[0;34m[\u001b[0m\u001b[0;34m'deaths'\u001b[0m\u001b[0;34m]\u001b[0m\u001b[0;34m.\u001b[0m\u001b[0mtail\u001b[0m\u001b[0;34m(\u001b[0m\u001b[0;36m10\u001b[0m\u001b[0;34m)\u001b[0m\u001b[0;34m\u001b[0m\u001b[0;34m\u001b[0m\u001b[0m\n\u001b[1;32m      3\u001b[0m \u001b[0;34m\u001b[0m\u001b[0m\n\u001b[1;32m      4\u001b[0m \u001b[0my_hat1\u001b[0m \u001b[0;34m=\u001b[0m \u001b[0muk_F3\u001b[0m\u001b[0;34m[\u001b[0m\u001b[0;34m'D_Reg'\u001b[0m\u001b[0;34m]\u001b[0m\u001b[0;34m.\u001b[0m\u001b[0mtail\u001b[0m\u001b[0;34m(\u001b[0m\u001b[0;36m10\u001b[0m\u001b[0;34m)\u001b[0m\u001b[0;34m\u001b[0m\u001b[0;34m\u001b[0m\u001b[0m\n\u001b[1;32m      5\u001b[0m \u001b[0my_hat2\u001b[0m \u001b[0;34m=\u001b[0m \u001b[0muk_F3\u001b[0m\u001b[0;34m[\u001b[0m\u001b[0;34m'D_3dAve'\u001b[0m\u001b[0;34m]\u001b[0m\u001b[0;34m.\u001b[0m\u001b[0mtail\u001b[0m\u001b[0;34m(\u001b[0m\u001b[0;36m10\u001b[0m\u001b[0;34m)\u001b[0m\u001b[0;34m\u001b[0m\u001b[0;34m\u001b[0m\u001b[0m\n",
      "\u001b[0;31mAttributeError\u001b[0m: 'Int64Index' object has no attribute 'tail'"
     ]
    }
   ],
   "source": [
    "x_plot = uk_F3.index.tail(10)\n",
    "y_plot = uk_F3['deaths'].tail(10)\n",
    "\n",
    "y_hat1 = uk_F3['D_Reg'].tail(10)\n",
    "y_hat2 = uk_F3['D_3dAve'].tail(10)\n",
    "y_hat3 = uk_F3['D_4dAve'].tail(10)\n",
    "y_hat5 = uk_F3['D_5dAve'].tail(10)\n",
    "y_hat3 = uk_F3['D_Ave'].tail(10)\n",
    "\n",
    "plt.title('Predition')\n",
    "plt.xlabel('Days')\n",
    "plt.ylabel('Deaths')\n",
    "\n",
    "plt.plot(x_plot,y_plot, color='blue', label='Actual')\n",
    "plt.plot(x_plot,y_hat1, color='red', label='Reg')\n",
    "plt.plot(x_plot,y_hat2, color='purple', label='3day roll')\n",
    "plt.plot(x_plot,y_hat3, color='orange', label='4day roll')\n",
    "plt.plot(x_plot,y_hat3, color='yellow', label='5day roll')\n",
    "plt.plot(x_plot,y_hat3, color='black', label='AVERAGE')\n",
    "\n",
    "plt.legend()"
   ]
  },
  {
   "cell_type": "code",
   "execution_count": 22,
   "metadata": {},
   "outputs": [
    {
     "name": "stdout",
     "output_type": "stream",
     "text": [
      "death_prediction_2020-03-27.csv\n"
     ]
    }
   ],
   "source": [
    "import datetime\n",
    "datefortoday=datetime.date.today()\n",
    "dateforyesterday=datefortoday-datetime.timedelta(days = 1)\n",
    "savename= \"death_prediction_\"+str(dateforyesterday)+\".csv\"\n",
    "print(savename)\n",
    "#uk_F3.tail(10).to_csv(savename)"
   ]
  },
  {
   "cell_type": "code",
   "execution_count": null,
   "metadata": {},
   "outputs": [],
   "source": []
  }
 ],
 "metadata": {
  "kernelspec": {
   "display_name": "Python 3",
   "language": "python",
   "name": "python3"
  },
  "language_info": {
   "codemirror_mode": {
    "name": "ipython",
    "version": 3
   },
   "file_extension": ".py",
   "mimetype": "text/x-python",
   "name": "python",
   "nbconvert_exporter": "python",
   "pygments_lexer": "ipython3",
   "version": "3.7.6"
  }
 },
 "nbformat": 4,
 "nbformat_minor": 4
}
