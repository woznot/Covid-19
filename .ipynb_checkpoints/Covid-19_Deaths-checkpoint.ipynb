{
 "cells": [
  {
   "cell_type": "markdown",
   "metadata": {},
   "source": [
    "## Death Predictions"
   ]
  },
  {
   "cell_type": "markdown",
   "metadata": {},
   "source": [
    "The question is whether we are able to predict how many deaths will occur bases known factors. \n",
    "\n",
    "Assumptions:\n",
    "* Countries' data are unique due to: \n",
    " * Different case recording methodolodies.  eg: Germany test more while UK and Italy test only the most severe cases\n",
    " * Different social dynamics.  eg: Italy has a very family (larger family) centered life\n",
    " * Different age distribution.  The older are more likely to die due to the Covid-19\n",
    " * Different infection rates along different ages.  eg: Germany average age of the infected is apparently around 43, while Italy is around 68 (higher mortality rate)\n",
    " * Different relgious practices.  Italy is predomantly roman catholic.  Church goes dip their fingers in holi water when they go & leave church and make the sign of the cross that includes touching their forehead (infection vector).  Combine with the church going demographic\n",
    "* Covid-19 cycle:\n",
    " * Day 7/8 admit to hospital (most likely tested at this point)\n",
    " * Day 17/18 Death occurs in worst cases"
   ]
  },
  {
   "cell_type": "code",
   "execution_count": 2,
   "metadata": {},
   "outputs": [],
   "source": [
    "import pandas as pd\n",
    "import matplotlib.pylab as plt\n",
    "from matplotlib import pyplot\n",
    "import seaborn as sns\n",
    "%matplotlib inline "
   ]
  },
  {
   "cell_type": "code",
   "execution_count": 19,
   "metadata": {},
   "outputs": [],
   "source": [
    "from datetime import datetime\n",
    "today_date=datetime.now()\n",
    "#filename = \"https://www.ecdc.europa.eu/sites/default/files/documents/COVID-19-geographic-disbtribution-worldwide-\"+today_date.strftime('%Y')+\"-\"+today_date.strftime('%m')+\"-\"+today_date.strftime('%d')+ \".xlsx\"\n",
    "filename =\"https://www.ecdc.europa.eu/sites/default/files/documents/COVID-19-geographic-disbtribution-worldwide-2020-03-25.xlsx\"\n",
    "df=pd.read_excel(filename)"
   ]
  },
  {
   "cell_type": "markdown",
   "metadata": {},
   "source": [
    "### Looked at total deaths as a % of total cases in different countries"
   ]
  },
  {
   "cell_type": "code",
   "execution_count": 20,
   "metadata": {},
   "outputs": [],
   "source": [
    "cn_1=df.loc[df[\"GeoId\"]=='CN']\n",
    "cn_C = cn_1.sort_values('DateRep')\n",
    "\n",
    "cn_C['T_Cases'] = cn_C['Cases'].cumsum()\n",
    "cn_C['T_Deaths'] = cn_C['Deaths'].cumsum()\n",
    "cn_C['per_death']=cn_C['T_Deaths']/cn_C['T_Cases']\n",
    "\n",
    "cn_C = cn_C.reset_index(drop=True)"
   ]
  },
  {
   "cell_type": "code",
   "execution_count": 21,
   "metadata": {},
   "outputs": [],
   "source": [
    "it_P=df.loc[df[\"GeoId\"]=='IT']\n",
    "it_P1 = it_P.sort_values('DateRep')\n",
    "\n",
    "it_P1['T_Cases'] = it_P1['Cases'].cumsum()\n",
    "it_P1['T_Deaths'] = it_P1['Deaths'].cumsum()\n",
    "it_P1['per_death']=it_P1['T_Deaths']/it_P1['T_Cases']\n",
    "\n",
    "it_P1 = it_P1.reset_index(drop=True)"
   ]
  },
  {
   "cell_type": "code",
   "execution_count": 22,
   "metadata": {},
   "outputs": [],
   "source": [
    "uk_P=df.loc[df[\"GeoId\"]=='UK']\n",
    "uk_P1 = uk_P.sort_values('DateRep')\n",
    "\n",
    "uk_P1['T_Cases'] = uk_P1['Cases'].cumsum()\n",
    "uk_P1['T_Deaths'] = uk_P1['Deaths'].cumsum()\n",
    "uk_P1['per_death']=uk_P1['T_Deaths']/uk_P1['T_Cases']\n",
    "\n",
    "uk_P1 = uk_P1.reset_index(drop=True)"
   ]
  },
  {
   "cell_type": "code",
   "execution_count": 23,
   "metadata": {},
   "outputs": [],
   "source": [
    "de_P=df.loc[df[\"GeoId\"]=='DE']\n",
    "de_P1 = de_P.sort_values('DateRep')\n",
    "\n",
    "de_P1['T_Cases'] = de_P1['Cases'].cumsum()\n",
    "de_P1['T_Deaths'] = de_P1['Deaths'].cumsum()\n",
    "de_P1['per_death']=de_P1['T_Deaths']/de_P1['T_Cases']\n",
    "\n",
    "de_P1 = de_P1.reset_index(drop=True)"
   ]
  },
  {
   "cell_type": "code",
   "execution_count": 24,
   "metadata": {},
   "outputs": [
    {
     "data": {
      "text/plain": [
       "<matplotlib.legend.Legend at 0x1a1ac1c850>"
      ]
     },
     "execution_count": 24,
     "metadata": {},
     "output_type": "execute_result"
    },
    {
     "data": {
      "image/png": "[encoded data removed]",
      "text/plain": [
       "<Figure size 432x288 with 1 Axes>"
      ]
     },
     "metadata": {
      "needs_background": "light"
     },
     "output_type": "display_data"
    }
   ],
   "source": [
    "x1 = cn_C.index\n",
    "y1 = cn_C['per_death']\n",
    "x2 = it_P1.index\n",
    "y2 = it_P1['per_death']\n",
    "x3 = uk_P1.index\n",
    "y3 = uk_P1['per_death']\n",
    "x4 = de_P1.index\n",
    "y4 = de_P1['per_death']\n",
    "\n",
    "plt.title('% of total deaths to total cases')\n",
    "plt.xlabel('Days')\n",
    "plt.ylabel('%')\n",
    "\n",
    "plt.plot(x1,y1, color='blue', label='CN')\n",
    "plt.plot(x2,y2, color='red', label='IT')\n",
    "plt.plot(x3,y3, color='orange', label='UK')\n",
    "plt.plot(x4,y4, color='purple', label='DE')\n",
    "plt.legend()"
   ]
  },
  {
   "cell_type": "markdown",
   "metadata": {},
   "source": [
    "### Look at correlation of deaths to past recorded cases"
   ]
  },
  {
   "cell_type": "markdown",
   "metadata": {},
   "source": [
    "Assume case record occurs at day 7 of the virus cycle"
   ]
  },
  {
   "cell_type": "code",
   "execution_count": 27,
   "metadata": {},
   "outputs": [],
   "source": [
    "uk_C=df.loc[df[\"GeoId\"]=='UK']\n",
    "uk_C1 = uk_C.sort_values('DateRep')\n",
    "\n",
    "uk_C1['Cases_8d']= uk_C1['Cases'].shift(8)\n",
    "uk_C1['Cases_9d']= uk_C1['Cases'].shift(9)\n",
    "uk_C1['Cases_10d']= uk_C1['Cases'].shift(10)\n",
    "uk_C1['Cases_11d']= uk_C1['Cases'].shift(11)\n",
    "uk_C1['Cases_12d']= uk_C1['Cases'].shift(12)\n",
    "uk_C1['Cases_13d']= uk_C1['Cases'].shift(13)\n",
    "uk_C1['Cases_14d']= uk_C1['Cases'].shift(14)\n",
    "uk_C1['Cases_15d']= uk_C1['Cases'].shift(15)\n",
    "uk_C2 = uk_C1.dropna()\n",
    "uk_C2 = uk_C2.reset_index(drop=True)"
   ]
  },
  {
   "cell_type": "code",
   "execution_count": null,
   "metadata": {},
   "outputs": [],
   "source": []
  },
  {
   "cell_type": "code",
   "execution_count": 30,
   "metadata": {},
   "outputs": [
    {
     "name": "stdout",
     "output_type": "stream",
     "text": [
      "8d:  0.6047916049032376\n",
      "9d:  0.6725457177478296\n",
      "10d:  0.7681866552368755\n",
      "11d:  0.8632216119546252\n",
      "12d:  0.9156699292224766\n",
      "13d:  0.922963179126322\n",
      "14d:  0.868202641235408\n",
      "15d:  0.858018493146367\n"
     ]
    }
   ],
   "source": [
    "from sklearn.linear_model import LinearRegression\n",
    "\n",
    "lm = LinearRegression()\n",
    "x3=uk_C2[['Cases_8d']]\n",
    "x4=uk_C2[['Cases_9d']]\n",
    "x5=uk_C2[['Cases_10d']]\n",
    "x6=uk_C2[['Cases_11d']]\n",
    "x7=uk_C2[['Cases_12d']]\n",
    "x8=uk_C2[['Cases_13d']]\n",
    "x9=uk_C2[['Cases_14d']]\n",
    "x10=uk_C2[['Cases_15d']]\n",
    "y=uk_C2['Deaths']\n",
    "\n",
    "lm.fit(x3, y)\n",
    "print (\"8d: \",lm.score(x3, y))\n",
    "lm.fit(x4, y)\n",
    "print (\"9d: \",lm.score(x4, y))\n",
    "lm.fit(x5, y)\n",
    "print (\"10d: \",lm.score(x5, y))\n",
    "lm.fit(x6, y)\n",
    "print (\"11d: \",lm.score(x6, y))\n",
    "lm.fit(x7, y)\n",
    "print (\"12d: \",lm.score(x7, y))\n",
    "lm.fit(x8, y)\n",
    "print (\"13d: \",lm.score(x8, y))\n",
    "lm.fit(x9, y)\n",
    "print (\"14d: \",lm.score(x9, y))\n",
    "lm.fit(x10, y)\n",
    "print (\"15d: \",lm.score(x10, y))"
   ]
  },
  {
   "cell_type": "markdown",
   "metadata": {},
   "source": [
    "### Look at a correlation with a range of days.  "
   ]
  },
  {
   "cell_type": "code",
   "execution_count": 35,
   "metadata": {},
   "outputs": [
    {
     "name": "stdout",
     "output_type": "stream",
     "text": [
      "0.9598088730919605\n"
     ]
    },
    {
     "data": {
      "text/plain": [
       "<matplotlib.legend.Legend at 0x1a1aebce50>"
      ]
     },
     "execution_count": 35,
     "metadata": {},
     "output_type": "execute_result"
    },
    {
     "data": {
      "image/png": "[encoded data removed]",
      "text/plain": [
       "<Figure size 432x288 with 1 Axes>"
      ]
     },
     "metadata": {
      "needs_background": "light"
     },
     "output_type": "display_data"
    }
   ],
   "source": [
    "x_5c=uk_C2[['Cases_10d','Cases_11d','Cases_12d','Cases_13d','Cases_14d']]\n",
    "lm.fit(x_5c, y)\n",
    "print (lm.score(x_5c, y))\n",
    "\n",
    "Death_hat_uk = lm.predict(x_5c)\n",
    "\n",
    "x_plot = uk_C2.index\n",
    "y_plot = uk_C2['Deaths']\n",
    "#x = df_it_C.index\n",
    "y_hat1 = Death_hat_uk\n",
    "\n",
    "plt.title('Actual vs Predicted Deaths')\n",
    "plt.xlabel('Days')\n",
    "plt.ylabel('Deaths')\n",
    "\n",
    "plt.plot(x_plot,y_plot, color='blue', label='Actual')\n",
    "plt.plot(x_plot,y_hat1, color='red', label='Predicted')\n",
    "plt.legend()\n"
   ]
  },
  {
   "cell_type": "code",
   "execution_count": null,
   "metadata": {},
   "outputs": [],
   "source": []
  }
 ],
 "metadata": {
  "kernelspec": {
   "display_name": "Python 3",
   "language": "python",
   "name": "python3"
  },
  "language_info": {
   "codemirror_mode": {
    "name": "ipython",
    "version": 3
   },
   "file_extension": ".py",
   "mimetype": "text/x-python",
   "name": "python",
   "nbconvert_exporter": "python",
   "pygments_lexer": "ipython3",
   "version": "3.7.6"
  }
 },
 "nbformat": 4,
 "nbformat_minor": 4
}
