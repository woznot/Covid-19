{
 "cells": [
  {
   "cell_type": "code",
   "execution_count": 78,
   "metadata": {},
   "outputs": [],
   "source": [
    "import datetime\n",
    "import pandas as pd\n",
    "import matplotlib.pylab as plt\n",
    "from matplotlib import pyplot\n",
    "import seaborn as sns\n",
    "%matplotlib inline \n"
   ]
  },
  {
   "cell_type": "code",
   "execution_count": 67,
   "metadata": {},
   "outputs": [],
   "source": [
    "today_date=datetime.now()\n",
    "filename = \"https://www.ecdc.europa.eu/sites/default/files/documents/COVID-19-geographic-disbtribution-worldwide-\"+today_date.strftime('%Y')+\"-\"+today_date.strftime('%m')+\"-\"+today_date.strftime('%d')+ \".xlsx\"\n",
    "#filename =\"https://www.ecdc.europa.eu/sites/default/files/documents/COVID-19-geographic-disbtribution-worldwide-2020-03-23.xlsx\"\n",
    "df=pd.read_excel(filename)"
   ]
  },
  {
   "cell_type": "code",
   "execution_count": 68,
   "metadata": {},
   "outputs": [],
   "source": [
    "df_uk_1=df.loc[df[\"GeoId\"]=='UK']"
   ]
  },
  {
   "cell_type": "code",
   "execution_count": 69,
   "metadata": {},
   "outputs": [
    {
     "data": {
      "text/html": [
       "<div>\n",
       "<style scoped>\n",
       "    .dataframe tbody tr th:only-of-type {\n",
       "        vertical-align: middle;\n",
       "    }\n",
       "\n",
       "    .dataframe tbody tr th {\n",
       "        vertical-align: top;\n",
       "    }\n",
       "\n",
       "    .dataframe thead th {\n",
       "        text-align: right;\n",
       "    }\n",
       "</style>\n",
       "<table border=\"1\" class=\"dataframe\">\n",
       "  <thead>\n",
       "    <tr style=\"text-align: right;\">\n",
       "      <th></th>\n",
       "      <th>DateRep</th>\n",
       "      <th>Day</th>\n",
       "      <th>Month</th>\n",
       "      <th>Year</th>\n",
       "      <th>Cases</th>\n",
       "      <th>Deaths</th>\n",
       "      <th>Countries and territories</th>\n",
       "      <th>GeoId</th>\n",
       "      <th>UK_Total_Cases</th>\n",
       "    </tr>\n",
       "  </thead>\n",
       "  <tbody>\n",
       "    <tr>\n",
       "      <th>49</th>\n",
       "      <td>2020-03-20</td>\n",
       "      <td>20</td>\n",
       "      <td>3</td>\n",
       "      <td>2020</td>\n",
       "      <td>647</td>\n",
       "      <td>41</td>\n",
       "      <td>United_Kingdom</td>\n",
       "      <td>UK</td>\n",
       "      <td>3277</td>\n",
       "    </tr>\n",
       "    <tr>\n",
       "      <th>50</th>\n",
       "      <td>2020-03-21</td>\n",
       "      <td>21</td>\n",
       "      <td>3</td>\n",
       "      <td>2020</td>\n",
       "      <td>706</td>\n",
       "      <td>33</td>\n",
       "      <td>United_Kingdom</td>\n",
       "      <td>UK</td>\n",
       "      <td>3983</td>\n",
       "    </tr>\n",
       "    <tr>\n",
       "      <th>51</th>\n",
       "      <td>2020-03-22</td>\n",
       "      <td>22</td>\n",
       "      <td>3</td>\n",
       "      <td>2020</td>\n",
       "      <td>1035</td>\n",
       "      <td>56</td>\n",
       "      <td>United_Kingdom</td>\n",
       "      <td>UK</td>\n",
       "      <td>5018</td>\n",
       "    </tr>\n",
       "    <tr>\n",
       "      <th>52</th>\n",
       "      <td>2020-03-23</td>\n",
       "      <td>23</td>\n",
       "      <td>3</td>\n",
       "      <td>2020</td>\n",
       "      <td>665</td>\n",
       "      <td>48</td>\n",
       "      <td>United_Kingdom</td>\n",
       "      <td>UK</td>\n",
       "      <td>5683</td>\n",
       "    </tr>\n",
       "    <tr>\n",
       "      <th>53</th>\n",
       "      <td>2020-03-24</td>\n",
       "      <td>24</td>\n",
       "      <td>3</td>\n",
       "      <td>2020</td>\n",
       "      <td>967</td>\n",
       "      <td>54</td>\n",
       "      <td>United_Kingdom</td>\n",
       "      <td>UK</td>\n",
       "      <td>6650</td>\n",
       "    </tr>\n",
       "  </tbody>\n",
       "</table>\n",
       "</div>"
      ],
      "text/plain": [
       "      DateRep  Day  Month  Year  Cases  Deaths Countries and territories  \\\n",
       "49 2020-03-20   20      3  2020    647      41            United_Kingdom   \n",
       "50 2020-03-21   21      3  2020    706      33            United_Kingdom   \n",
       "51 2020-03-22   22      3  2020   1035      56            United_Kingdom   \n",
       "52 2020-03-23   23      3  2020    665      48            United_Kingdom   \n",
       "53 2020-03-24   24      3  2020    967      54            United_Kingdom   \n",
       "\n",
       "   GeoId  UK_Total_Cases  \n",
       "49    UK            3277  \n",
       "50    UK            3983  \n",
       "51    UK            5018  \n",
       "52    UK            5683  \n",
       "53    UK            6650  "
      ]
     },
     "execution_count": 69,
     "metadata": {},
     "output_type": "execute_result"
    }
   ],
   "source": [
    "df_uk_C = df_uk_1.sort_values('DateRep')\n",
    "df_uk_C['UK_Total_Cases'] = df_uk_C['Cases'].cumsum()\n",
    "\n",
    "indexNames = df_uk_C[ df_uk_C['UK_Total_Cases'] == 0 ].index\n",
    "df_uk_C.drop(indexNames, inplace=True)\n",
    "\n",
    "df_uk_C = df_uk_C.reset_index(drop=True)\n",
    "\n",
    "df_uk_C.tail()"
   ]
  },
  {
   "cell_type": "code",
   "execution_count": 70,
   "metadata": {},
   "outputs": [
    {
     "data": {
      "text/html": [
       "<div>\n",
       "<style scoped>\n",
       "    .dataframe tbody tr th:only-of-type {\n",
       "        vertical-align: middle;\n",
       "    }\n",
       "\n",
       "    .dataframe tbody tr th {\n",
       "        vertical-align: top;\n",
       "    }\n",
       "\n",
       "    .dataframe thead th {\n",
       "        text-align: right;\n",
       "    }\n",
       "</style>\n",
       "<table border=\"1\" class=\"dataframe\">\n",
       "  <thead>\n",
       "    <tr style=\"text-align: right;\">\n",
       "      <th></th>\n",
       "      <th>DateRep</th>\n",
       "      <th>Day</th>\n",
       "      <th>Month</th>\n",
       "      <th>Year</th>\n",
       "      <th>Cases</th>\n",
       "      <th>Deaths</th>\n",
       "      <th>Countries and territories</th>\n",
       "      <th>GeoId</th>\n",
       "      <th>UK_Total_Deaths</th>\n",
       "    </tr>\n",
       "  </thead>\n",
       "  <tbody>\n",
       "    <tr>\n",
       "      <th>14</th>\n",
       "      <td>2020-03-20</td>\n",
       "      <td>20</td>\n",
       "      <td>3</td>\n",
       "      <td>2020</td>\n",
       "      <td>647</td>\n",
       "      <td>41</td>\n",
       "      <td>United_Kingdom</td>\n",
       "      <td>UK</td>\n",
       "      <td>144</td>\n",
       "    </tr>\n",
       "    <tr>\n",
       "      <th>15</th>\n",
       "      <td>2020-03-21</td>\n",
       "      <td>21</td>\n",
       "      <td>3</td>\n",
       "      <td>2020</td>\n",
       "      <td>706</td>\n",
       "      <td>33</td>\n",
       "      <td>United_Kingdom</td>\n",
       "      <td>UK</td>\n",
       "      <td>177</td>\n",
       "    </tr>\n",
       "    <tr>\n",
       "      <th>16</th>\n",
       "      <td>2020-03-22</td>\n",
       "      <td>22</td>\n",
       "      <td>3</td>\n",
       "      <td>2020</td>\n",
       "      <td>1035</td>\n",
       "      <td>56</td>\n",
       "      <td>United_Kingdom</td>\n",
       "      <td>UK</td>\n",
       "      <td>233</td>\n",
       "    </tr>\n",
       "    <tr>\n",
       "      <th>17</th>\n",
       "      <td>2020-03-23</td>\n",
       "      <td>23</td>\n",
       "      <td>3</td>\n",
       "      <td>2020</td>\n",
       "      <td>665</td>\n",
       "      <td>48</td>\n",
       "      <td>United_Kingdom</td>\n",
       "      <td>UK</td>\n",
       "      <td>281</td>\n",
       "    </tr>\n",
       "    <tr>\n",
       "      <th>18</th>\n",
       "      <td>2020-03-24</td>\n",
       "      <td>24</td>\n",
       "      <td>3</td>\n",
       "      <td>2020</td>\n",
       "      <td>967</td>\n",
       "      <td>54</td>\n",
       "      <td>United_Kingdom</td>\n",
       "      <td>UK</td>\n",
       "      <td>335</td>\n",
       "    </tr>\n",
       "  </tbody>\n",
       "</table>\n",
       "</div>"
      ],
      "text/plain": [
       "      DateRep  Day  Month  Year  Cases  Deaths Countries and territories  \\\n",
       "14 2020-03-20   20      3  2020    647      41            United_Kingdom   \n",
       "15 2020-03-21   21      3  2020    706      33            United_Kingdom   \n",
       "16 2020-03-22   22      3  2020   1035      56            United_Kingdom   \n",
       "17 2020-03-23   23      3  2020    665      48            United_Kingdom   \n",
       "18 2020-03-24   24      3  2020    967      54            United_Kingdom   \n",
       "\n",
       "   GeoId  UK_Total_Deaths  \n",
       "14    UK              144  \n",
       "15    UK              177  \n",
       "16    UK              233  \n",
       "17    UK              281  \n",
       "18    UK              335  "
      ]
     },
     "execution_count": 70,
     "metadata": {},
     "output_type": "execute_result"
    }
   ],
   "source": [
    "df_uk_D = df_uk_1.sort_values('DateRep')\n",
    "df_uk_D['UK_Total_Deaths'] = df_uk_D['Deaths'].cumsum()\n",
    "\n",
    "indexNamesD = df_uk_D[ df_uk_D['UK_Total_Deaths'] == 0 ].index\n",
    "df_uk_D.drop(indexNamesD, inplace=True)\n",
    "\n",
    "df_uk_D = df_uk_D.reset_index(drop=True)\n",
    "\n",
    "df_uk_D.tail()"
   ]
  },
  {
   "cell_type": "code",
   "execution_count": 53,
   "metadata": {},
   "outputs": [],
   "source": [
    "df_it_1=df.loc[df[\"GeoId\"]=='IT']"
   ]
  },
  {
   "cell_type": "code",
   "execution_count": 71,
   "metadata": {},
   "outputs": [
    {
     "data": {
      "text/html": [
       "<div>\n",
       "<style scoped>\n",
       "    .dataframe tbody tr th:only-of-type {\n",
       "        vertical-align: middle;\n",
       "    }\n",
       "\n",
       "    .dataframe tbody tr th {\n",
       "        vertical-align: top;\n",
       "    }\n",
       "\n",
       "    .dataframe thead th {\n",
       "        text-align: right;\n",
       "    }\n",
       "</style>\n",
       "<table border=\"1\" class=\"dataframe\">\n",
       "  <thead>\n",
       "    <tr style=\"text-align: right;\">\n",
       "      <th></th>\n",
       "      <th>DateRep</th>\n",
       "      <th>Day</th>\n",
       "      <th>Month</th>\n",
       "      <th>Year</th>\n",
       "      <th>Cases</th>\n",
       "      <th>Deaths</th>\n",
       "      <th>Countries and territories</th>\n",
       "      <th>GeoId</th>\n",
       "      <th>IT_Total_Cases</th>\n",
       "    </tr>\n",
       "  </thead>\n",
       "  <tbody>\n",
       "    <tr>\n",
       "      <th>49</th>\n",
       "      <td>2020-03-20</td>\n",
       "      <td>20</td>\n",
       "      <td>3</td>\n",
       "      <td>2020</td>\n",
       "      <td>5322</td>\n",
       "      <td>429</td>\n",
       "      <td>Italy</td>\n",
       "      <td>IT</td>\n",
       "      <td>41035</td>\n",
       "    </tr>\n",
       "    <tr>\n",
       "      <th>50</th>\n",
       "      <td>2020-03-21</td>\n",
       "      <td>21</td>\n",
       "      <td>3</td>\n",
       "      <td>2020</td>\n",
       "      <td>5986</td>\n",
       "      <td>625</td>\n",
       "      <td>Italy</td>\n",
       "      <td>IT</td>\n",
       "      <td>47021</td>\n",
       "    </tr>\n",
       "    <tr>\n",
       "      <th>51</th>\n",
       "      <td>2020-03-22</td>\n",
       "      <td>22</td>\n",
       "      <td>3</td>\n",
       "      <td>2020</td>\n",
       "      <td>6557</td>\n",
       "      <td>795</td>\n",
       "      <td>Italy</td>\n",
       "      <td>IT</td>\n",
       "      <td>53578</td>\n",
       "    </tr>\n",
       "    <tr>\n",
       "      <th>52</th>\n",
       "      <td>2020-03-23</td>\n",
       "      <td>23</td>\n",
       "      <td>3</td>\n",
       "      <td>2020</td>\n",
       "      <td>5560</td>\n",
       "      <td>649</td>\n",
       "      <td>Italy</td>\n",
       "      <td>IT</td>\n",
       "      <td>59138</td>\n",
       "    </tr>\n",
       "    <tr>\n",
       "      <th>53</th>\n",
       "      <td>2020-03-24</td>\n",
       "      <td>24</td>\n",
       "      <td>3</td>\n",
       "      <td>2020</td>\n",
       "      <td>4789</td>\n",
       "      <td>601</td>\n",
       "      <td>Italy</td>\n",
       "      <td>IT</td>\n",
       "      <td>63927</td>\n",
       "    </tr>\n",
       "  </tbody>\n",
       "</table>\n",
       "</div>"
      ],
      "text/plain": [
       "      DateRep  Day  Month  Year  Cases  Deaths Countries and territories  \\\n",
       "49 2020-03-20   20      3  2020   5322     429                     Italy   \n",
       "50 2020-03-21   21      3  2020   5986     625                     Italy   \n",
       "51 2020-03-22   22      3  2020   6557     795                     Italy   \n",
       "52 2020-03-23   23      3  2020   5560     649                     Italy   \n",
       "53 2020-03-24   24      3  2020   4789     601                     Italy   \n",
       "\n",
       "   GeoId  IT_Total_Cases  \n",
       "49    IT           41035  \n",
       "50    IT           47021  \n",
       "51    IT           53578  \n",
       "52    IT           59138  \n",
       "53    IT           63927  "
      ]
     },
     "execution_count": 71,
     "metadata": {},
     "output_type": "execute_result"
    }
   ],
   "source": [
    "df_it_C = df_it_1.sort_values('DateRep')\n",
    "df_it_C['IT_Total_Cases'] = df_it_C['Cases'].cumsum()\n",
    "\n",
    "indexNamesIT = df_it_C[ df_it_C['IT_Total_Cases'] == 0 ].index\n",
    "df_it_C.drop(indexNamesIT, inplace=True)\n",
    "\n",
    "df_it_C = df_it_C.reset_index(drop=True)\n",
    "\n",
    "df_it_C.tail()"
   ]
  },
  {
   "cell_type": "code",
   "execution_count": 72,
   "metadata": {},
   "outputs": [
    {
     "data": {
      "text/html": [
       "<div>\n",
       "<style scoped>\n",
       "    .dataframe tbody tr th:only-of-type {\n",
       "        vertical-align: middle;\n",
       "    }\n",
       "\n",
       "    .dataframe tbody tr th {\n",
       "        vertical-align: top;\n",
       "    }\n",
       "\n",
       "    .dataframe thead th {\n",
       "        text-align: right;\n",
       "    }\n",
       "</style>\n",
       "<table border=\"1\" class=\"dataframe\">\n",
       "  <thead>\n",
       "    <tr style=\"text-align: right;\">\n",
       "      <th></th>\n",
       "      <th>DateRep</th>\n",
       "      <th>Day</th>\n",
       "      <th>Month</th>\n",
       "      <th>Year</th>\n",
       "      <th>Cases</th>\n",
       "      <th>Deaths</th>\n",
       "      <th>Countries and territories</th>\n",
       "      <th>GeoId</th>\n",
       "      <th>IT_Total_Deaths</th>\n",
       "    </tr>\n",
       "  </thead>\n",
       "  <tbody>\n",
       "    <tr>\n",
       "      <th>26</th>\n",
       "      <td>2020-03-20</td>\n",
       "      <td>20</td>\n",
       "      <td>3</td>\n",
       "      <td>2020</td>\n",
       "      <td>5322</td>\n",
       "      <td>429</td>\n",
       "      <td>Italy</td>\n",
       "      <td>IT</td>\n",
       "      <td>3407</td>\n",
       "    </tr>\n",
       "    <tr>\n",
       "      <th>27</th>\n",
       "      <td>2020-03-21</td>\n",
       "      <td>21</td>\n",
       "      <td>3</td>\n",
       "      <td>2020</td>\n",
       "      <td>5986</td>\n",
       "      <td>625</td>\n",
       "      <td>Italy</td>\n",
       "      <td>IT</td>\n",
       "      <td>4032</td>\n",
       "    </tr>\n",
       "    <tr>\n",
       "      <th>28</th>\n",
       "      <td>2020-03-22</td>\n",
       "      <td>22</td>\n",
       "      <td>3</td>\n",
       "      <td>2020</td>\n",
       "      <td>6557</td>\n",
       "      <td>795</td>\n",
       "      <td>Italy</td>\n",
       "      <td>IT</td>\n",
       "      <td>4827</td>\n",
       "    </tr>\n",
       "    <tr>\n",
       "      <th>29</th>\n",
       "      <td>2020-03-23</td>\n",
       "      <td>23</td>\n",
       "      <td>3</td>\n",
       "      <td>2020</td>\n",
       "      <td>5560</td>\n",
       "      <td>649</td>\n",
       "      <td>Italy</td>\n",
       "      <td>IT</td>\n",
       "      <td>5476</td>\n",
       "    </tr>\n",
       "    <tr>\n",
       "      <th>30</th>\n",
       "      <td>2020-03-24</td>\n",
       "      <td>24</td>\n",
       "      <td>3</td>\n",
       "      <td>2020</td>\n",
       "      <td>4789</td>\n",
       "      <td>601</td>\n",
       "      <td>Italy</td>\n",
       "      <td>IT</td>\n",
       "      <td>6077</td>\n",
       "    </tr>\n",
       "  </tbody>\n",
       "</table>\n",
       "</div>"
      ],
      "text/plain": [
       "      DateRep  Day  Month  Year  Cases  Deaths Countries and territories  \\\n",
       "26 2020-03-20   20      3  2020   5322     429                     Italy   \n",
       "27 2020-03-21   21      3  2020   5986     625                     Italy   \n",
       "28 2020-03-22   22      3  2020   6557     795                     Italy   \n",
       "29 2020-03-23   23      3  2020   5560     649                     Italy   \n",
       "30 2020-03-24   24      3  2020   4789     601                     Italy   \n",
       "\n",
       "   GeoId  IT_Total_Deaths  \n",
       "26    IT             3407  \n",
       "27    IT             4032  \n",
       "28    IT             4827  \n",
       "29    IT             5476  \n",
       "30    IT             6077  "
      ]
     },
     "execution_count": 72,
     "metadata": {},
     "output_type": "execute_result"
    }
   ],
   "source": [
    "df_it_D = df_it_1.sort_values('DateRep')\n",
    "df_it_D['IT_Total_Deaths'] = df_it_D['Deaths'].cumsum()\n",
    "\n",
    "indexNamesITD = df_it_D[ df_it_D['IT_Total_Deaths'] == 0 ].index\n",
    "df_it_D.drop(indexNamesITD, inplace=True)\n",
    "\n",
    "df_it_D = df_it_D.reset_index(drop=True)\n",
    "\n",
    "df_it_D.tail()"
   ]
  },
  {
   "cell_type": "code",
   "execution_count": 73,
   "metadata": {},
   "outputs": [],
   "source": [
    "it_total_cases = df_it_C['IT_Total_Cases']\n",
    "\n",
    "pd_case = df_uk_C.join(it_total_cases)\n"
   ]
  },
  {
   "cell_type": "code",
   "execution_count": 74,
   "metadata": {},
   "outputs": [],
   "source": [
    "it_total_deaths = df_it_D['IT_Total_Deaths']\n",
    "\n",
    "pd_death = df_uk_D.join(it_total_deaths)\n"
   ]
  },
  {
   "cell_type": "code",
   "execution_count": 75,
   "metadata": {},
   "outputs": [],
   "source": [
    "uk_maxC = pd_case.max()\n",
    "uk_maxD = pd_death.max()"
   ]
  },
  {
   "cell_type": "code",
   "execution_count": 84,
   "metadata": {},
   "outputs": [
    {
     "name": "stdout",
     "output_type": "stream",
     "text": [
      "UK case percentage:  0.10402490340544684\n",
      "UK death percentage:  0.40507859733978235\n",
      "DateRep                      2020-03-24 00:00:00\n",
      "Day                                           31\n",
      "Month                                          3\n",
      "Year                                        2020\n",
      "Cases                                       1035\n",
      "Deaths                                        56\n",
      "Countries and territories         United_Kingdom\n",
      "GeoId                                         UK\n",
      "UK_Total_Cases                              6650\n",
      "IT_Total_Cases                             63927\n",
      "dtype: object\n",
      "DateRep                      2020-03-24 00:00:00\n",
      "Day                                           24\n",
      "Month                                          3\n",
      "Year                                        2020\n",
      "Cases                                       1035\n",
      "Deaths                                        56\n",
      "Countries and territories         United_Kingdom\n",
      "GeoId                                         UK\n",
      "UK_Total_Deaths                              335\n",
      "IT_Total_Deaths                              827\n",
      "dtype: object\n"
     ]
    }
   ],
   "source": [
    "print (\"UK case percentage: \", uk_maxC['UK_Total_Cases']/uk_maxC['IT_Total_Cases'])\n",
    "print (\"UK death percentage: \", uk_maxD['UK_Total_Deaths']/uk_maxD['IT_Total_Deaths'])\n",
    "print (uk_maxC)\n",
    "print (uk_maxD)"
   ]
  },
  {
   "cell_type": "code",
   "execution_count": 83,
   "metadata": {},
   "outputs": [
    {
     "name": "stdout",
     "output_type": "stream",
     "text": [
      "2020-03-23\n"
     ]
    }
   ],
   "source": [
    "datefortoday=datetime.date.today()\n",
    "dateforyesterday=datefortoday-datetime.timedelta(days = 1)\n",
    "print (dateforyesterday)"
   ]
  },
  {
   "cell_type": "code",
   "execution_count": 60,
   "metadata": {},
   "outputs": [
    {
     "data": {
      "image/png": "[encoded data removed]",
      "text/plain": [
       "<Figure size 432x288 with 1 Axes>"
      ]
     },
     "metadata": {
      "needs_background": "light"
     },
     "output_type": "display_data"
    }
   ],
   "source": [
    "x_uk = df_uk_C.index\n",
    "y_uk = df_uk_C['UK_Total_Cases']\n",
    "x_it = df_it_C.index\n",
    "y_it = df_it_C['IT_Total_Cases']\n",
    "\n",
    "plt.title('Number of cases UK vs IT, based on UK timeline \\n' +dateforyesterday)\n",
    "plt.xlabel('Days from first confirmed case')\n",
    "plt.ylabel('Number of cases')\n",
    "plt.grid(True)\n",
    "\n",
    "uk_plot= plt.plot(x_uk,y_uk, color='blue', label='UK')\n",
    "it_plot= plt.plot(x_it,y_it, color='red', label='IT')\n",
    "plt.legend()\n",
    "\n",
    "\n",
    "plt.savefig(\"UKvsIT_UK_baseline\" +dateforyesterday+ \".pdf\")"
   ]
  },
  {
   "cell_type": "code",
   "execution_count": 14,
   "metadata": {},
   "outputs": [
    {
     "data": {
      "text/plain": [
       "[<matplotlib.lines.Line2D at 0x1a24323a90>]"
      ]
     },
     "execution_count": 14,
     "metadata": {},
     "output_type": "execute_result"
    },
    {
     "data": {
      "image/png": "[encoded data removed]",
      "text/plain": [
       "<Figure size 432x288 with 1 Axes>"
      ]
     },
     "metadata": {
      "needs_background": "light"
     },
     "output_type": "display_data"
    }
   ],
   "source": [
    "x_ukD = df_uk_D.index\n",
    "y_ukD = df_uk_D['UK_Total_Deaths']\n",
    "x_itD = df_it_D.index\n",
    "y_itD = df_it_D['IT_Total_Deaths']\n",
    "\n",
    "plt.plot(x_ukD,y_ukD)\n",
    "plt.plot(x_itD,y_itD)"
   ]
  },
  {
   "cell_type": "code",
   "execution_count": 61,
   "metadata": {},
   "outputs": [
    {
     "data": {
      "image/png": "[encoded data removed]",
      "text/plain": [
       "<Figure size 432x288 with 1 Axes>"
      ]
     },
     "metadata": {
      "needs_background": "light"
     },
     "output_type": "display_data"
    }
   ],
   "source": [
    "x = pd_case.index\n",
    "y_uk = pd_case['UK_Total_Cases']\n",
    "y_it = pd_case['IT_Total_Cases']\n",
    "\n",
    "plt.title('Number of cases UK vs IT, based on UK timeline \\n' +today_date.strftime('%Y')+\"-\"+today_date.strftime('%m')+\"-\"+today_date.strftime('%d'))\n",
    "plt.xlabel('Days from first confirmed case')\n",
    "plt.ylabel('Number of cases')\n",
    "plt.grid(True)\n",
    "\n",
    "uk_plotC= plt.plot(x_uk,y_uk, color='blue', label='UK')\n",
    "it_plotC= plt.plot(x_it,y_it, color='red', label='IT')\n",
    "plt.legend()\n",
    "\n",
    "\n",
    "plt.savefig(\"UKvsIT_UK_baseline\" +today_date.strftime('%Y')+\"-\"+today_date.strftime('%m')+\"-\"+today_date.strftime('%d')+ \".pdf\")\n"
   ]
  },
  {
   "cell_type": "code",
   "execution_count": 64,
   "metadata": {},
   "outputs": [
    {
     "data": {
      "image/png": "[encoded data removed]",
      "text/plain": [
       "<Figure size 432x288 with 1 Axes>"
      ]
     },
     "metadata": {
      "needs_background": "light"
     },
     "output_type": "display_data"
    }
   ],
   "source": [
    "xd = pd_death.index\n",
    "yd_uk = pd_death['UK_Total_Deaths']\n",
    "yd_it = pd_death['IT_Total_Deaths']\n",
    "\n",
    "plt.title('Number of deaths UK vs IT, based on UK timeline \\n' +today_date.strftime('%Y')+\"-\"+today_date.strftime('%m')+\"-\"+today_date.strftime('%d'))\n",
    "plt.xlabel('Days from first confirmed death')\n",
    "plt.ylabel('Number of deaths')\n",
    "plt.grid(True)\n",
    "\n",
    "uk_plotD= plt.plot(xd,yd_uk, color='blue', label='UK')\n",
    "it_plotD= plt.plot(xd,yd_it, color='red', label='IT')\n",
    "plt.legend()\n",
    "\n",
    "\n",
    "plt.savefig(\"UKvsIT_Death_UK_baseline\" +today_date.strftime('%Y')+\"-\"+today_date.strftime('%m')+\"-\"+today_date.strftime('%d')+ \".pdf\")\n"
   ]
  },
  {
   "cell_type": "code",
   "execution_count": null,
   "metadata": {},
   "outputs": [],
   "source": []
  },
  {
   "cell_type": "code",
   "execution_count": null,
   "metadata": {
    "scrolled": true
   },
   "outputs": [],
   "source": []
  },
  {
   "cell_type": "code",
   "execution_count": null,
   "metadata": {},
   "outputs": [],
   "source": [
    "x_ukD = df_uk_D.index\n",
    "y_ukD = df_uk_D['UK_Total_Deaths']\n",
    "x_itD = df_it_D.index\n",
    "y_itD = df_it_D['IT_Total_Deaths']\n",
    "\n",
    "plt.plot(x_ukD,y_ukD)\n",
    "plt.plot(x_itD,y_itD)"
   ]
  },
  {
   "cell_type": "code",
   "execution_count": null,
   "metadata": {},
   "outputs": [],
   "source": [
    "x_uk = df_uk_C.index\n",
    "y_uk = df_uk_C['UK_Total_Cases']\n",
    "x_it = df_it_C.index\n",
    "y_it = df_it_C['IT_Total_Cases']\n",
    "\n",
    "plt.plot(x_uk,y_uk)\n",
    "plt.plot(x_it,y_it)"
   ]
  },
  {
   "cell_type": "code",
   "execution_count": null,
   "metadata": {},
   "outputs": [],
   "source": []
  },
  {
   "cell_type": "code",
   "execution_count": null,
   "metadata": {},
   "outputs": [],
   "source": []
  },
  {
   "cell_type": "code",
   "execution_count": null,
   "metadata": {},
   "outputs": [],
   "source": []
  }
 ],
 "metadata": {
  "kernelspec": {
   "display_name": "Python 3",
   "language": "python",
   "name": "python3"
  },
  "language_info": {
   "codemirror_mode": {
    "name": "ipython",
    "version": 3
   },
   "file_extension": ".py",
   "mimetype": "text/x-python",
   "name": "python",
   "nbconvert_exporter": "python",
   "pygments_lexer": "ipython3",
   "version": "3.7.6"
  }
 },
 "nbformat": 4,
 "nbformat_minor": 4
}
