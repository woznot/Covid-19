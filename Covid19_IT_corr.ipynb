{
 "cells": [
  {
   "cell_type": "markdown",
   "metadata": {},
   "source": [
    "## Question\n",
    "<p> Can we predict the death rate on past registered cases?  \n",
    "    Is there a time window for when confirming cases to when deaths occure? </p>"
   ]
  },
  {
   "cell_type": "code",
   "execution_count": 1,
   "metadata": {},
   "outputs": [],
   "source": [
    "import datetime\n",
    "from datetime import datetime\n",
    "import pandas as pd\n",
    "import matplotlib.pylab as plt\n",
    "from matplotlib import pyplot\n",
    "import seaborn as sns\n",
    "%matplotlib inline "
   ]
  },
  {
   "cell_type": "code",
   "execution_count": 2,
   "metadata": {},
   "outputs": [],
   "source": [
    "today_date=datetime.now()\n",
    "#filename = \"https://www.ecdc.europa.eu/sites/default/files/documents/COVID-19-geographic-disbtribution-worldwide-\"+today_date.strftime('%Y')+\"-\"+today_date.strftime('%m')+\"-\"+today_date.strftime('%d')+ \".xlsx\"\n",
    "filename =\"https://www.ecdc.europa.eu/sites/default/files/documents/COVID-19-geographic-disbtribution-worldwide-2020-03-26.xlsx\"\n",
    "df=pd.read_excel(filename)"
   ]
  },
  {
   "cell_type": "code",
   "execution_count": 3,
   "metadata": {},
   "outputs": [],
   "source": [
    "df_it_1=df.loc[df[\"GeoId\"]=='DE']"
   ]
  },
  {
   "cell_type": "code",
   "execution_count": 4,
   "metadata": {},
   "outputs": [],
   "source": [
    "df_it_C = df_it_1.sort_values('DateRep')\n",
    "\n",
    "df_it_C['IT_Total_Cases'] = df_it_C['Cases'].cumsum()\n",
    "\n",
    "indexNamesIT = df_it_C[ df_it_C['IT_Total_Cases'] == 0 ].index\n",
    "df_it_C.drop(indexNamesIT, inplace=True)\n",
    "\n",
    "indexNamesITC = df_it_C[ df_it_C['Cases'] == 0 ].index\n",
    "df_it_C.drop(indexNamesITC, inplace=True)\n",
    "\n",
    "df_it_C = df_it_C.reset_index(drop=True)"
   ]
  },
  {
   "cell_type": "code",
   "execution_count": 5,
   "metadata": {},
   "outputs": [],
   "source": [
    "df_it_C2 = df_it_C\n",
    "df_it_C2['Cases_5d']= df_it_C2['Cases'].shift(5)\n",
    "df_it_C2['Cases_6d']= df_it_C2['Cases'].shift(6)\n",
    "df_it_C2['Cases_7d']= df_it_C2['Cases'].shift(7)\n",
    "df_it_C2['Cases_8d']= df_it_C2['Cases'].shift(8)\n",
    "df_it_C2['Cases_9d']= df_it_C2['Cases'].shift(9)\n",
    "df_it_C2['Cases_10d']= df_it_C2['Cases'].shift(10)\n",
    "df_it_C2['Cases_11d']= df_it_C2['Cases'].shift(11)\n",
    "df_it_C2['Cases_12d']= df_it_C2['Cases'].shift(12)\n",
    "df_it_C2['Cases_13d']= df_it_C2['Cases'].shift(13)\n",
    "df_it_C2['Cases_14d']= df_it_C2['Cases'].shift(14)\n",
    "df_it_C2['Cases_15d']= df_it_C2['Cases'].shift(15)\n",
    "df_it_C2['Cases_16d']= df_it_C2['Cases'].shift(16)\n",
    "df_it_C2['Cases_17d']= df_it_C2['Cases'].shift(17)\n",
    "df_it_C2['Cases_18d']= df_it_C2['Cases'].shift(18)\n",
    "df_it_C2['Cases_19d']= df_it_C2['Cases'].shift(19)\n",
    "df_it_C2['Cases_20d']= df_it_C2['Cases'].shift(20)\n",
    "df_it_C3 = df_it_C2.dropna()\n",
    "df_it_C3 = df_it_C3.reset_index(drop=True)"
   ]
  },
  {
   "cell_type": "code",
   "execution_count": 6,
   "metadata": {},
   "outputs": [
    {
     "name": "stdout",
     "output_type": "stream",
     "text": [
      "5d:  0.42508761670582085\n",
      "6d:  0.6354531868669915\n",
      "7d:  0.7659809366886304\n",
      "8d:  0.6457866678216361\n",
      "9d:  0.7306272473202302\n",
      "10d:  0.7919800944159785\n",
      "11d:  0.5596502463663278\n",
      "12d:  0.5303416793027163\n",
      "13d:  0.7055845763410656\n",
      "14d:  0.5116713480088199\n",
      "15d:  0.4113510839501485\n",
      "16d:  0.6642527034792151\n",
      "17d:  0.401214810818765\n",
      "18d:  0.4579412753505435\n",
      "19d:  0.6904090583144422\n",
      "20d:  0.5664808168569497\n"
     ]
    }
   ],
   "source": [
    " from sklearn.linear_model import LinearRegression\n",
    "\n",
    "lm = LinearRegression()\n",
    "x0=df_it_C3[['Cases_5d']]\n",
    "x1=df_it_C3[['Cases_6d']]\n",
    "x2=df_it_C3[['Cases_7d']]\n",
    "x3=df_it_C3[['Cases_8d']]\n",
    "x4=df_it_C3[['Cases_9d']]\n",
    "x5=df_it_C3[['Cases_10d']]\n",
    "x6=df_it_C3[['Cases_11d']]\n",
    "x7=df_it_C3[['Cases_12d']]\n",
    "x8=df_it_C3[['Cases_13d']]\n",
    "x9=df_it_C3[['Cases_14d']]\n",
    "x10=df_it_C3[['Cases_15d']]\n",
    "x11=df_it_C3[['Cases_16d']]\n",
    "x12=df_it_C3[['Cases_17d']]\n",
    "x13=df_it_C3[['Cases_18d']]\n",
    "x14=df_it_C3[['Cases_19d']]\n",
    "x15=df_it_C3[['Cases_20d']]\n",
    "y=df_it_C3['Deaths']\n",
    "\n",
    "lm.fit(x0, y)\n",
    "print (\"5d: \",lm.score(x0, y))\n",
    "lm.fit(x1, y)\n",
    "print (\"6d: \",lm.score(x1, y))\n",
    "lm.fit(x2, y)\n",
    "print (\"7d: \",lm.score(x2, y))\n",
    "lm.fit(x3, y)\n",
    "print (\"8d: \",lm.score(x3, y))\n",
    "lm.fit(x4, y)\n",
    "print (\"9d: \",lm.score(x4, y))\n",
    "lm.fit(x5, y)\n",
    "print (\"10d: \",lm.score(x5, y))\n",
    "lm.fit(x6, y)\n",
    "print (\"11d: \",lm.score(x6, y))\n",
    "lm.fit(x7, y)\n",
    "print (\"12d: \",lm.score(x7, y))\n",
    "lm.fit(x8, y)\n",
    "print (\"13d: \",lm.score(x8, y))\n",
    "lm.fit(x9, y)\n",
    "print (\"14d: \",lm.score(x9, y))\n",
    "lm.fit(x10, y)\n",
    "print (\"15d: \",lm.score(x10, y))\n",
    "lm.fit(x11, y)\n",
    "print (\"16d: \",lm.score(x11, y))\n",
    "lm.fit(x12, y)\n",
    "print (\"17d: \",lm.score(x12, y))\n",
    "lm.fit(x13, y)\n",
    "print (\"18d: \",lm.score(x13, y))\n",
    "lm.fit(x14, y)\n",
    "print (\"19d: \",lm.score(x14, y))\n",
    "lm.fit(x15, y)\n",
    "print (\"20d: \",lm.score(x15, y))\n"
   ]
  },
  {
   "cell_type": "code",
   "execution_count": null,
   "metadata": {},
   "outputs": [],
   "source": []
  },
  {
   "cell_type": "code",
   "execution_count": null,
   "metadata": {},
   "outputs": [],
   "source": []
  },
  {
   "cell_type": "code",
   "execution_count": null,
   "metadata": {},
   "outputs": [],
   "source": []
  },
  {
   "cell_type": "code",
   "execution_count": null,
   "metadata": {},
   "outputs": [],
   "source": []
  },
  {
   "cell_type": "code",
   "execution_count": null,
   "metadata": {},
   "outputs": [],
   "source": []
  },
  {
   "cell_type": "code",
   "execution_count": null,
   "metadata": {},
   "outputs": [],
   "source": []
  },
  {
   "cell_type": "code",
   "execution_count": null,
   "metadata": {},
   "outputs": [],
   "source": []
  },
  {
   "cell_type": "code",
   "execution_count": null,
   "metadata": {},
   "outputs": [],
   "source": []
  },
  {
   "cell_type": "code",
   "execution_count": null,
   "metadata": {},
   "outputs": [],
   "source": []
  },
  {
   "cell_type": "code",
   "execution_count": null,
   "metadata": {},
   "outputs": [],
   "source": []
  },
  {
   "cell_type": "code",
   "execution_count": null,
   "metadata": {},
   "outputs": [],
   "source": []
  },
  {
   "cell_type": "code",
   "execution_count": null,
   "metadata": {},
   "outputs": [],
   "source": [
    "\n"
   ]
  },
  {
   "cell_type": "code",
   "execution_count": null,
   "metadata": {},
   "outputs": [],
   "source": []
  },
  {
   "cell_type": "code",
   "execution_count": null,
   "metadata": {},
   "outputs": [],
   "source": []
  }
 ],
 "metadata": {
  "kernelspec": {
   "display_name": "Python 3",
   "language": "python",
   "name": "python3"
  },
  "language_info": {
   "codemirror_mode": {
    "name": "ipython",
    "version": 3
   },
   "file_extension": ".py",
   "mimetype": "text/x-python",
   "name": "python",
   "nbconvert_exporter": "python",
   "pygments_lexer": "ipython3",
   "version": "3.7.6"
  }
 },
 "nbformat": 4,
 "nbformat_minor": 4
}
